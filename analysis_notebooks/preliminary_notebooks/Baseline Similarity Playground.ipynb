{
 "cells": [
  {
   "cell_type": "code",
   "execution_count": 1,
   "id": "92c5b302",
   "metadata": {},
   "outputs": [
    {
     "name": "stderr",
     "output_type": "stream",
     "text": [
      "<frozen importlib._bootstrap>:228: RuntimeWarning: to-Python converter for class boost::shared_ptr<class RDKit::FilterCatalogEntry const > already registered; second conversion method ignored.\n"
     ]
    }
   ],
   "source": [
    "%load_ext autoreload\n",
    "%autoreload 2\n",
    "\n",
    "import argparse\n",
    "import pandas as pd\n",
    "import numpy as np\n",
    "import pathlib\n",
    "import gzip\n",
    "import time\n",
    "import json\n",
    "from rdkit import Chem\n",
    "from rdkit.Chem import AllChem\n",
    "from rdkit.Chem.SaltRemover import SaltRemover\n",
    "from rdkit.Chem.FilterCatalog import *\n",
    "\n",
    "import sys\n",
    "sys.path.insert(0,'../src/')\n",
    "from baseline_similarity import SimilarityBaseline\n",
    "\n",
    "simbaseline_model_file='../predict_REAL_db/SimilarityBaseline_preds/baseline_similarity.npy'\n",
    "# load similarity baseline model\n",
    "with open('../predict_REAL_db/SimilarityBaseline_preds/baseline_similarity.json', 'r') as f:\n",
    "    task_conf = json.load(f)\n",
    "simbaseline_model = SimilarityBaseline(conf=task_conf)\n",
    "simbaseline_model.load_model(simbaseline_model_file)\n",
    "\n",
    "data_df = pd.read_csv('E:/Github/zinc/datasets/Zenodo/v1/master_df.csv.gz')"
   ]
  },
  {
   "cell_type": "code",
   "execution_count": 15,
   "id": "ade51e7f",
   "metadata": {},
   "outputs": [
    {
     "name": "stderr",
     "output_type": "stream",
     "text": [
      "C:\\Users\\Moeman\\AppData\\Local\\Temp\\ipykernel_42180\\977231369.py:3: DeprecationWarning: The binary mode of fromstring is deprecated, as it behaves surprisingly on unicode inputs. Use frombuffer instead\n",
      "  X = np.vstack([np.fromstring(x, 'u1') - ord('0') for x in sample_df['1024 MorganFP Radius 2']]).astype(float)\n"
     ]
    },
    {
     "name": "stdout",
     "output_type": "stream",
     "text": [
      "slow: 0.9474108020464579 min\n",
      "fast: 0.14284849166870117 sec\n",
      "________________________________________________________________\n",
      "slow: 0.9330432573954265 min\n",
      "fast: 0.1458442211151123 sec\n",
      "________________________________________________________________\n",
      "slow: 1.0592958529790242 min\n",
      "fast: 0.15383672714233398 sec\n",
      "________________________________________________________________\n",
      "slow: 0.9414135853449503 min\n",
      "fast: 0.14584565162658691 sec\n",
      "________________________________________________________________\n",
      "slow: 0.9411995013554891 min\n",
      "fast: 0.13585567474365234 sec\n",
      "________________________________________________________________\n"
     ]
    }
   ],
   "source": [
    "for _ in range(5):\n",
    "    sample_df = data_df.sample(n=5000)\n",
    "    X = np.vstack([np.fromstring(x, 'u1') - ord('0') for x in sample_df['1024 MorganFP Radius 2']]).astype(float)\n",
    "    \n",
    "    start_t = time.time()\n",
    "    tan_slow = simbaseline_model._baseline_pred(X)\n",
    "    end_t = time.time()\n",
    "    total_t = (end_t - start_t) / 60.0\n",
    "    print('slow: {} min'.format(total_t))\n",
    "\n",
    "    start_t = time.time()\n",
    "    tan_fast = simbaseline_model._fast_tanimoto_similarity(X, 1024)\n",
    "    end_t = time.time()\n",
    "    total_t = (end_t - start_t)\n",
    "    print('fast: {} sec'.format(total_t))\n",
    "\n",
    "    print('________________________________________________________________')\n",
    "            \n",
    "    res = np.array_equal(tan_slow.flatten(), tan_fast)\n",
    "    assert res"
   ]
  },
  {
   "cell_type": "code",
   "execution_count": 13,
   "id": "bc6765be",
   "metadata": {},
   "outputs": [
    {
     "name": "stdout",
     "output_type": "stream",
     "text": [
      "slow: 1.916525093714396 min\n",
      "fast: 0.2887003421783447 sec\n",
      "________________________________________________________________\n"
     ]
    }
   ],
   "source": [
    "import time\n",
    "start_t = time.time()\n",
    "tan_slow = simbaseline_model._baseline_pred(X)\n",
    "end_t = time.time()\n",
    "total_t = (end_t - start_t) / 60.0\n",
    "print('slow: {} min'.format(total_t))\n",
    "\n",
    "start_t = time.time()\n",
    "tan_fast = simbaseline_model._fast_tanimoto_similarity(X)\n",
    "end_t = time.time()\n",
    "total_t = (end_t - start_t)\n",
    "print('fast: {} sec'.format(total_t))\n",
    "\n",
    "print('________________________________________________________________')"
   ]
  },
  {
   "cell_type": "code",
   "execution_count": null,
   "id": "3705e111",
   "metadata": {},
   "outputs": [],
   "source": []
  }
 ],
 "metadata": {
  "kernelspec": {
   "display_name": "Python 3 (ipykernel)",
   "language": "python",
   "name": "python3"
  },
  "language_info": {
   "codemirror_mode": {
    "name": "ipython",
    "version": 3
   },
   "file_extension": ".py",
   "mimetype": "text/x-python",
   "name": "python",
   "nbconvert_exporter": "python",
   "pygments_lexer": "ipython3",
   "version": "3.9.13"
  }
 },
 "nbformat": 4,
 "nbformat_minor": 5
}
