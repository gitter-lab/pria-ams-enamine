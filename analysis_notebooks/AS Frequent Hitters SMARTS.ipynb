{
 "cells": [
  {
   "cell_type": "code",
   "execution_count": 1,
   "metadata": {},
   "outputs": [
    {
     "name": "stderr",
     "output_type": "stream",
     "text": [
      "C:\\Users\\Moeman\\Anaconda3\\envs\\zinc_prep\\lib\\importlib\\_bootstrap.py:219: RuntimeWarning: to-Python converter for class boost::shared_ptr<class RDKit::FilterCatalogEntry const > already registered; second conversion method ignored.\n",
      "  return f(*args, **kwds)\n"
     ]
    }
   ],
   "source": [
    "from rdkit import Chem\n",
    "from rdkit.Chem import AllChem\n",
    "from rdkit.Chem.SaltRemover import SaltRemover\n",
    "from rdkit.Chem.FilterCatalog import *\n",
    "\n",
    "import pandas as pd\n",
    "import numpy as np\n",
    "import warnings\n",
    "warnings.filterwarnings('ignore')\n",
    "\n",
    "as_frh_filter_col = 'AS FRH Filter'\n",
    "smiles_col = 'rdkit SMILES'\n",
    "\n",
    "ams_df = pd.read_csv('../datasets/Zenodo/v1/ams_order_results.csv.gz')\n",
    "train_df = pd.read_csv('../datasets/Zenodo/v1/training_df_single_fold.csv.gz')\n",
    "\n",
    "real_df = pd.read_csv('../datasets/enamine_results/pria_enamine_inhib_33_uM.csv').drop_duplicates('SMSSF Molecule ID')\n",
    "real_cpd_info_df = pd.read_csv('../datasets/Zenodo/v1/enamine_final_list_v2.csv.gz').drop('Hit', axis=1)\n",
    "real_df = real_df.merge(real_cpd_info_df, on='ID Enamine')\n",
    "\n",
    "train_df = train_df[[smiles_col, 'PriA-SSB AS Activity']]\n",
    "ams_df = ams_df[[smiles_col, 'Hit']]\n",
    "real_df = real_df[[smiles_col, 'Hit']]\n",
    "\n",
    "train_df = train_df[train_df['PriA-SSB AS Activity'] == 1]\n",
    "ams_df = ams_df[ams_df['Hit'] == 1]\n",
    "real_df = real_df[real_df['Hit'] == 1]\n",
    "\n",
    "train_df[as_frh_filter_col] = 0\n",
    "ams_df[as_frh_filter_col] = 0\n",
    "real_df[as_frh_filter_col] = 0"
   ]
  },
  {
   "cell_type": "code",
   "execution_count": 2,
   "metadata": {},
   "outputs": [],
   "source": [
    "# read in smarts patterns and create rdkit mols\n",
    "smarts_list = pd.read_csv('../datasets/raw/ToxAlerts_Schorpp2014_SMARTS.txt', delimiter=': ', header=None)[1].tolist()\n",
    "smarts_patterns = [Chem.MolFromSmarts(smarts) for smarts in smarts_list]"
   ]
  },
  {
   "cell_type": "code",
   "execution_count": 4,
   "metadata": {},
   "outputs": [],
   "source": [
    "train_df[as_frh_filter_col] = train_df[smiles_col].astype(str).apply((lambda x: any([Chem.MolFromSmiles(x).HasSubstructMatch(smarts) for smarts in smarts_patterns]) ))\n",
    "ams_df[as_frh_filter_col] = ams_df[smiles_col].astype(str).apply((lambda x: any([Chem.MolFromSmiles(x).HasSubstructMatch(smarts) for smarts in smarts_patterns]) ))\n",
    "real_df[as_frh_filter_col] = real_df[smiles_col].astype(str).apply((lambda x: any([Chem.MolFromSmiles(x).HasSubstructMatch(smarts) for smarts in smarts_patterns]) ))"
   ]
  },
  {
   "cell_type": "code",
   "execution_count": 16,
   "metadata": {},
   "outputs": [],
   "source": [
    "train_frh_count = train_df[train_df[as_frh_filter_col]].shape[0]\n",
    "ams_frh_count = ams_df[ams_df[as_frh_filter_col]].shape[0]\n",
    "real_frh_count = real_df[real_df[as_frh_filter_col]].shape[0]"
   ]
  },
  {
   "cell_type": "code",
   "execution_count": 17,
   "metadata": {},
   "outputs": [
    {
     "name": "stdout",
     "output_type": "stream",
     "text": [
      "Train AS Freq. Hitters: 150 out of 554 compounds.\n",
      "AMS AS Freq. Hitters:   182 out of 412 compounds.\n",
      "REAL AS Freq. Hitters:  9 out of 31 compounds.\n"
     ]
    }
   ],
   "source": [
    "print('Train AS Freq. Hitters: {} out of {} compounds.'.format(train_frh_count, train_df.shape[0]))\n",
    "print('AMS AS Freq. Hitters:   {} out of {} compounds.'.format(ams_frh_count, ams_df.shape[0]))\n",
    "print('REAL AS Freq. Hitters:  {} out of {} compounds.'.format(real_frh_count, real_df.shape[0]))"
   ]
  }
 ],
 "metadata": {
  "kernelspec": {
   "display_name": "Python 3",
   "language": "python",
   "name": "python3"
  },
  "language_info": {
   "codemirror_mode": {
    "name": "ipython",
    "version": 3
   },
   "file_extension": ".py",
   "mimetype": "text/x-python",
   "name": "python",
   "nbconvert_exporter": "python",
   "pygments_lexer": "ipython3",
   "version": "3.6.12"
  }
 },
 "nbformat": 4,
 "nbformat_minor": 2
}
