{
 "cells": [
  {
   "cell_type": "code",
   "execution_count": 1,
   "metadata": {},
   "outputs": [],
   "source": [
    "import pandas as pd\n",
    "import numpy as np\n",
    "import warnings\n",
    "warnings.filterwarnings('ignore')\n",
    "\n",
    "res_df = pd.read_csv('../datasets/ams_order_results.csv.gz')\n",
    "train_df = pd.read_csv('../datasets/folds/training_df_single_fold_with_clustering.csv.gz')"
   ]
  },
  {
   "cell_type": "code",
   "execution_count": 4,
   "metadata": {},
   "outputs": [
    {
     "data": {
      "text/plain": [
       "array(['LC3', 'LC2, LC3', 'LC1, LC3', 'LC3, MLPCN', 'LC1, LC3, MLPCN',\n",
       "       'LC2, LC3, MLPCN', 'LC1, MLPCN', 'LC1, LC4', 'LC1, LC4, MLPCN',\n",
       "       'LC1', 'LC2', 'LC2, LC4', 'LC2, MLPCN', 'LC2, LC4, MLPCN',\n",
       "       'LC1, LC2, MLPCN', 'LC1, LC2', 'LC4', 'LC4, MLPCN', 'MLPCN'],\n",
       "      dtype=object)"
      ]
     },
     "execution_count": 4,
     "metadata": {},
     "output_type": "execute_result"
    }
   ],
   "source": [
    "train_df['Library ID'].unique()"
   ]
  },
  {
   "cell_type": "code",
   "execution_count": 10,
   "metadata": {},
   "outputs": [
    {
     "name": "stdout",
     "output_type": "stream",
     "text": [
      "LC1 : 24970\n",
      "LC2 : 24847\n",
      "LC3 : 24946\n",
      "LC4 : 25278\n",
      "MLPCN : 337104\n"
     ]
    }
   ],
   "source": [
    "libs = ['LC1', 'LC2', 'LC3', 'LC4', 'MLPCN']\n",
    "s = 0\n",
    "for l in libs:\n",
    "    tdf = train_df[train_df['Library ID'].str.contains(l)]\n",
    "    print(l, ':', tdf.shape[0])\n",
    "    s+= tdf.shape[0]"
   ]
  },
  {
   "cell_type": "code",
   "execution_count": 11,
   "metadata": {},
   "outputs": [
    {
     "data": {
      "text/plain": [
       "(437145, 427300)"
      ]
     },
     "execution_count": 11,
     "metadata": {},
     "output_type": "execute_result"
    }
   ],
   "source": [
    "s, train_df.shape[0]"
   ]
  },
  {
   "cell_type": "code",
   "execution_count": null,
   "metadata": {},
   "outputs": [],
   "source": []
  }
 ],
 "metadata": {
  "kernelspec": {
   "display_name": "Python 3",
   "language": "python",
   "name": "python3"
  },
  "language_info": {
   "codemirror_mode": {
    "name": "ipython",
    "version": 3
   },
   "file_extension": ".py",
   "mimetype": "text/x-python",
   "name": "python",
   "nbconvert_exporter": "python",
   "pygments_lexer": "ipython3",
   "version": "3.6.8"
  }
 },
 "nbformat": 4,
 "nbformat_minor": 2
}
