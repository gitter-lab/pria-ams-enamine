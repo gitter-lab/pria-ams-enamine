{
 "cells": [
  {
   "cell_type": "code",
   "execution_count": 1,
   "metadata": {
    "scrolled": true
   },
   "outputs": [
    {
     "ename": "FileNotFoundError",
     "evalue": "[Errno 2] File b'../../zinc/datasets//aldrich_baseline.out' does not exist: b'../../zinc/datasets//aldrich_baseline.out'",
     "output_type": "error",
     "traceback": [
      "\u001b[1;31m---------------------------------------------------------------------------\u001b[0m",
      "\u001b[1;31mFileNotFoundError\u001b[0m                         Traceback (most recent call last)",
      "\u001b[1;32m<ipython-input-1-d37af114d5fb>\u001b[0m in \u001b[0;36m<module>\u001b[1;34m\u001b[0m\n\u001b[0;32m      3\u001b[0m \u001b[1;33m\u001b[0m\u001b[0m\n\u001b[0;32m      4\u001b[0m \u001b[0mbase_dir\u001b[0m \u001b[1;33m=\u001b[0m \u001b[1;34m'../../zinc/datasets/'\u001b[0m\u001b[1;33m\u001b[0m\u001b[1;33m\u001b[0m\u001b[0m\n\u001b[1;32m----> 5\u001b[1;33m \u001b[0mbaseline_df\u001b[0m \u001b[1;33m=\u001b[0m \u001b[0mpd\u001b[0m\u001b[1;33m.\u001b[0m\u001b[0mread_csv\u001b[0m\u001b[1;33m(\u001b[0m\u001b[0mbase_dir\u001b[0m\u001b[1;33m+\u001b[0m\u001b[1;34m'/aldrich_baseline.out'\u001b[0m\u001b[1;33m,\u001b[0m \u001b[0mdelimiter\u001b[0m\u001b[1;33m=\u001b[0m\u001b[1;34m'\\t'\u001b[0m\u001b[1;33m,\u001b[0m \u001b[0mheader\u001b[0m\u001b[1;33m=\u001b[0m\u001b[1;32mNone\u001b[0m\u001b[1;33m)\u001b[0m\u001b[1;33m\u001b[0m\u001b[1;33m\u001b[0m\u001b[0m\n\u001b[0m\u001b[0;32m      6\u001b[0m \u001b[0mbaseline_df\u001b[0m\u001b[1;33m.\u001b[0m\u001b[0mcolumns\u001b[0m \u001b[1;33m=\u001b[0m \u001b[1;33m[\u001b[0m\u001b[1;34m'canonical SMILES'\u001b[0m\u001b[1;33m,\u001b[0m \u001b[1;34m'baseline_preds'\u001b[0m\u001b[1;33m]\u001b[0m\u001b[1;33m\u001b[0m\u001b[1;33m\u001b[0m\u001b[0m\n\u001b[0;32m      7\u001b[0m \u001b[0mxgb_df\u001b[0m \u001b[1;33m=\u001b[0m \u001b[0mpd\u001b[0m\u001b[1;33m.\u001b[0m\u001b[0mread_csv\u001b[0m\u001b[1;33m(\u001b[0m\u001b[0mbase_dir\u001b[0m\u001b[1;33m+\u001b[0m\u001b[1;34m'/filtered_aldrich_prediction_2019_0222.out'\u001b[0m\u001b[1;33m,\u001b[0m \u001b[0mdelimiter\u001b[0m\u001b[1;33m=\u001b[0m\u001b[1;34m'\\t'\u001b[0m\u001b[1;33m,\u001b[0m \u001b[0mheader\u001b[0m\u001b[1;33m=\u001b[0m\u001b[1;32mNone\u001b[0m\u001b[1;33m)\u001b[0m\u001b[1;33m\u001b[0m\u001b[1;33m\u001b[0m\u001b[0m\n",
      "\u001b[1;32m~\\Anaconda3\\lib\\site-packages\\pandas\\io\\parsers.py\u001b[0m in \u001b[0;36mparser_f\u001b[1;34m(filepath_or_buffer, sep, delimiter, header, names, index_col, usecols, squeeze, prefix, mangle_dupe_cols, dtype, engine, converters, true_values, false_values, skipinitialspace, skiprows, skipfooter, nrows, na_values, keep_default_na, na_filter, verbose, skip_blank_lines, parse_dates, infer_datetime_format, keep_date_col, date_parser, dayfirst, iterator, chunksize, compression, thousands, decimal, lineterminator, quotechar, quoting, doublequote, escapechar, comment, encoding, dialect, tupleize_cols, error_bad_lines, warn_bad_lines, delim_whitespace, low_memory, memory_map, float_precision)\u001b[0m\n\u001b[0;32m    700\u001b[0m                     skip_blank_lines=skip_blank_lines)\n\u001b[0;32m    701\u001b[0m \u001b[1;33m\u001b[0m\u001b[0m\n\u001b[1;32m--> 702\u001b[1;33m         \u001b[1;32mreturn\u001b[0m \u001b[0m_read\u001b[0m\u001b[1;33m(\u001b[0m\u001b[0mfilepath_or_buffer\u001b[0m\u001b[1;33m,\u001b[0m \u001b[0mkwds\u001b[0m\u001b[1;33m)\u001b[0m\u001b[1;33m\u001b[0m\u001b[1;33m\u001b[0m\u001b[0m\n\u001b[0m\u001b[0;32m    703\u001b[0m \u001b[1;33m\u001b[0m\u001b[0m\n\u001b[0;32m    704\u001b[0m     \u001b[0mparser_f\u001b[0m\u001b[1;33m.\u001b[0m\u001b[0m__name__\u001b[0m \u001b[1;33m=\u001b[0m \u001b[0mname\u001b[0m\u001b[1;33m\u001b[0m\u001b[1;33m\u001b[0m\u001b[0m\n",
      "\u001b[1;32m~\\Anaconda3\\lib\\site-packages\\pandas\\io\\parsers.py\u001b[0m in \u001b[0;36m_read\u001b[1;34m(filepath_or_buffer, kwds)\u001b[0m\n\u001b[0;32m    427\u001b[0m \u001b[1;33m\u001b[0m\u001b[0m\n\u001b[0;32m    428\u001b[0m     \u001b[1;31m# Create the parser.\u001b[0m\u001b[1;33m\u001b[0m\u001b[1;33m\u001b[0m\u001b[1;33m\u001b[0m\u001b[0m\n\u001b[1;32m--> 429\u001b[1;33m     \u001b[0mparser\u001b[0m \u001b[1;33m=\u001b[0m \u001b[0mTextFileReader\u001b[0m\u001b[1;33m(\u001b[0m\u001b[0mfilepath_or_buffer\u001b[0m\u001b[1;33m,\u001b[0m \u001b[1;33m**\u001b[0m\u001b[0mkwds\u001b[0m\u001b[1;33m)\u001b[0m\u001b[1;33m\u001b[0m\u001b[1;33m\u001b[0m\u001b[0m\n\u001b[0m\u001b[0;32m    430\u001b[0m \u001b[1;33m\u001b[0m\u001b[0m\n\u001b[0;32m    431\u001b[0m     \u001b[1;32mif\u001b[0m \u001b[0mchunksize\u001b[0m \u001b[1;32mor\u001b[0m \u001b[0miterator\u001b[0m\u001b[1;33m:\u001b[0m\u001b[1;33m\u001b[0m\u001b[1;33m\u001b[0m\u001b[0m\n",
      "\u001b[1;32m~\\Anaconda3\\lib\\site-packages\\pandas\\io\\parsers.py\u001b[0m in \u001b[0;36m__init__\u001b[1;34m(self, f, engine, **kwds)\u001b[0m\n\u001b[0;32m    893\u001b[0m             \u001b[0mself\u001b[0m\u001b[1;33m.\u001b[0m\u001b[0moptions\u001b[0m\u001b[1;33m[\u001b[0m\u001b[1;34m'has_index_names'\u001b[0m\u001b[1;33m]\u001b[0m \u001b[1;33m=\u001b[0m \u001b[0mkwds\u001b[0m\u001b[1;33m[\u001b[0m\u001b[1;34m'has_index_names'\u001b[0m\u001b[1;33m]\u001b[0m\u001b[1;33m\u001b[0m\u001b[1;33m\u001b[0m\u001b[0m\n\u001b[0;32m    894\u001b[0m \u001b[1;33m\u001b[0m\u001b[0m\n\u001b[1;32m--> 895\u001b[1;33m         \u001b[0mself\u001b[0m\u001b[1;33m.\u001b[0m\u001b[0m_make_engine\u001b[0m\u001b[1;33m(\u001b[0m\u001b[0mself\u001b[0m\u001b[1;33m.\u001b[0m\u001b[0mengine\u001b[0m\u001b[1;33m)\u001b[0m\u001b[1;33m\u001b[0m\u001b[1;33m\u001b[0m\u001b[0m\n\u001b[0m\u001b[0;32m    896\u001b[0m \u001b[1;33m\u001b[0m\u001b[0m\n\u001b[0;32m    897\u001b[0m     \u001b[1;32mdef\u001b[0m \u001b[0mclose\u001b[0m\u001b[1;33m(\u001b[0m\u001b[0mself\u001b[0m\u001b[1;33m)\u001b[0m\u001b[1;33m:\u001b[0m\u001b[1;33m\u001b[0m\u001b[1;33m\u001b[0m\u001b[0m\n",
      "\u001b[1;32m~\\Anaconda3\\lib\\site-packages\\pandas\\io\\parsers.py\u001b[0m in \u001b[0;36m_make_engine\u001b[1;34m(self, engine)\u001b[0m\n\u001b[0;32m   1120\u001b[0m     \u001b[1;32mdef\u001b[0m \u001b[0m_make_engine\u001b[0m\u001b[1;33m(\u001b[0m\u001b[0mself\u001b[0m\u001b[1;33m,\u001b[0m \u001b[0mengine\u001b[0m\u001b[1;33m=\u001b[0m\u001b[1;34m'c'\u001b[0m\u001b[1;33m)\u001b[0m\u001b[1;33m:\u001b[0m\u001b[1;33m\u001b[0m\u001b[1;33m\u001b[0m\u001b[0m\n\u001b[0;32m   1121\u001b[0m         \u001b[1;32mif\u001b[0m \u001b[0mengine\u001b[0m \u001b[1;33m==\u001b[0m \u001b[1;34m'c'\u001b[0m\u001b[1;33m:\u001b[0m\u001b[1;33m\u001b[0m\u001b[1;33m\u001b[0m\u001b[0m\n\u001b[1;32m-> 1122\u001b[1;33m             \u001b[0mself\u001b[0m\u001b[1;33m.\u001b[0m\u001b[0m_engine\u001b[0m \u001b[1;33m=\u001b[0m \u001b[0mCParserWrapper\u001b[0m\u001b[1;33m(\u001b[0m\u001b[0mself\u001b[0m\u001b[1;33m.\u001b[0m\u001b[0mf\u001b[0m\u001b[1;33m,\u001b[0m \u001b[1;33m**\u001b[0m\u001b[0mself\u001b[0m\u001b[1;33m.\u001b[0m\u001b[0moptions\u001b[0m\u001b[1;33m)\u001b[0m\u001b[1;33m\u001b[0m\u001b[1;33m\u001b[0m\u001b[0m\n\u001b[0m\u001b[0;32m   1123\u001b[0m         \u001b[1;32melse\u001b[0m\u001b[1;33m:\u001b[0m\u001b[1;33m\u001b[0m\u001b[1;33m\u001b[0m\u001b[0m\n\u001b[0;32m   1124\u001b[0m             \u001b[1;32mif\u001b[0m \u001b[0mengine\u001b[0m \u001b[1;33m==\u001b[0m \u001b[1;34m'python'\u001b[0m\u001b[1;33m:\u001b[0m\u001b[1;33m\u001b[0m\u001b[1;33m\u001b[0m\u001b[0m\n",
      "\u001b[1;32m~\\Anaconda3\\lib\\site-packages\\pandas\\io\\parsers.py\u001b[0m in \u001b[0;36m__init__\u001b[1;34m(self, src, **kwds)\u001b[0m\n\u001b[0;32m   1851\u001b[0m         \u001b[0mkwds\u001b[0m\u001b[1;33m[\u001b[0m\u001b[1;34m'usecols'\u001b[0m\u001b[1;33m]\u001b[0m \u001b[1;33m=\u001b[0m \u001b[0mself\u001b[0m\u001b[1;33m.\u001b[0m\u001b[0musecols\u001b[0m\u001b[1;33m\u001b[0m\u001b[1;33m\u001b[0m\u001b[0m\n\u001b[0;32m   1852\u001b[0m \u001b[1;33m\u001b[0m\u001b[0m\n\u001b[1;32m-> 1853\u001b[1;33m         \u001b[0mself\u001b[0m\u001b[1;33m.\u001b[0m\u001b[0m_reader\u001b[0m \u001b[1;33m=\u001b[0m \u001b[0mparsers\u001b[0m\u001b[1;33m.\u001b[0m\u001b[0mTextReader\u001b[0m\u001b[1;33m(\u001b[0m\u001b[0msrc\u001b[0m\u001b[1;33m,\u001b[0m \u001b[1;33m**\u001b[0m\u001b[0mkwds\u001b[0m\u001b[1;33m)\u001b[0m\u001b[1;33m\u001b[0m\u001b[1;33m\u001b[0m\u001b[0m\n\u001b[0m\u001b[0;32m   1854\u001b[0m         \u001b[0mself\u001b[0m\u001b[1;33m.\u001b[0m\u001b[0munnamed_cols\u001b[0m \u001b[1;33m=\u001b[0m \u001b[0mself\u001b[0m\u001b[1;33m.\u001b[0m\u001b[0m_reader\u001b[0m\u001b[1;33m.\u001b[0m\u001b[0munnamed_cols\u001b[0m\u001b[1;33m\u001b[0m\u001b[1;33m\u001b[0m\u001b[0m\n\u001b[0;32m   1855\u001b[0m \u001b[1;33m\u001b[0m\u001b[0m\n",
      "\u001b[1;32mpandas/_libs/parsers.pyx\u001b[0m in \u001b[0;36mpandas._libs.parsers.TextReader.__cinit__\u001b[1;34m()\u001b[0m\n",
      "\u001b[1;32mpandas/_libs/parsers.pyx\u001b[0m in \u001b[0;36mpandas._libs.parsers.TextReader._setup_parser_source\u001b[1;34m()\u001b[0m\n",
      "\u001b[1;31mFileNotFoundError\u001b[0m: [Errno 2] File b'../../zinc/datasets//aldrich_baseline.out' does not exist: b'../../zinc/datasets//aldrich_baseline.out'"
     ]
    }
   ],
   "source": [
    "import numpy as np\n",
    "import pandas as pd\n",
    "\n",
    "base_dir = '../../zinc/datasets/'\n",
    "baseline_df = pd.read_csv(base_dir+'/aldrich_baseline.out', delimiter='\\t', header=None)\n",
    "baseline_df.columns = ['canonical SMILES', 'baseline_preds']\n",
    "xgb_df = pd.read_csv(base_dir+'/filtered_aldrich_prediction_2019_0222.out', delimiter='\\t', header=None)\n",
    "xgb_df.columns = ['original SMILES', 'canonical SMILES', 'id', 'xgb_preds']\n",
    "train_df = pd.concat([pd.read_csv(base_dir+'/keck_pria/fold_{}.csv'.format(i)) for i in range(10)])"
   ]
  },
  {
   "cell_type": "code",
   "execution_count": 4,
   "metadata": {},
   "outputs": [],
   "source": [
    "al = pd.concat([pd.read_csv('I:/Github/zinc/datasets/aldrich/{}.csv.gz'.format(i)) for i in range(50)])"
   ]
  },
  {
   "cell_type": "code",
   "execution_count": 8,
   "metadata": {},
   "outputs": [],
   "source": [
    "train_df = pd.concat([pd.read_csv(base_dir+'/keck_pria/fold_{}.csv'.format(i)) for i in range(10)])"
   ]
  },
  {
   "cell_type": "code",
   "execution_count": 9,
   "metadata": {},
   "outputs": [
    {
     "data": {
      "text/plain": [
       "(8187682, 4)"
      ]
     },
     "execution_count": 9,
     "metadata": {},
     "output_type": "execute_result"
    }
   ],
   "source": [
    "ind = al['smiles'].isin(train_df[~pd.isna(train_df['rdkit SMILES'])]['rdkit SMILES'])\n"
   ]
  },
  {
   "cell_type": "code",
   "execution_count": 10,
   "metadata": {},
   "outputs": [
    {
     "data": {
      "text/plain": [
       "247025"
      ]
     },
     "execution_count": 10,
     "metadata": {},
     "output_type": "execute_result"
    }
   ],
   "source": [
    "al['smiles'].shape[0] - al[~ind].shape[0]"
   ]
  },
  {
   "cell_type": "code",
   "execution_count": null,
   "metadata": {
    "collapsed": true
   },
   "outputs": [],
   "source": [
    "ind = baseline_df['canonical SMILES'].isin(train_df[~pd.isna(train_df['rdkit SMILES'])]['rdkit SMILES'])\n",
    "baseline_df = baseline_df[~ind]\n",
    "baseline_df = baseline_df.reset_index(drop=True)\n",
    "xgb_df['baseline_preds'] = baseline_df['baseline_preds']\n",
    "xgb_df = xgb_df[['id', 'original SMILES', 'canonical SMILES', 'xgb_preds', 'baseline_preds']]\n",
    "xgb_df.columns = ['id', 'original SMILES', 'rdkit SMILES', 'final_stage_xgb_preds', 'baseline_preds']"
   ]
  },
  {
   "cell_type": "code",
   "execution_count": null,
   "metadata": {
    "collapsed": true
   },
   "outputs": [],
   "source": [
    "xgb_df.to_csv('./filtered_aldrich_prediction_wbaseline_019_0223.csv.gz', compression='gzip', index=False)"
   ]
  },
  {
   "cell_type": "code",
   "execution_count": 1,
   "metadata": {},
   "outputs": [],
   "source": [
    "import numpy as np\n",
    "import pandas as pd\n",
    "\n",
    "df = pd.read_csv('../../zinc/datasets/filtered_aldrich_prediction_wbaseline_019_0223.csv.gz')"
   ]
  },
  {
   "cell_type": "code",
   "execution_count": 40,
   "metadata": {},
   "outputs": [
    {
     "name": "stderr",
     "output_type": "stream",
     "text": [
      "C:\\Users\\Moeman\\Anaconda3\\lib\\site-packages\\scipy\\stats\\stats.py:1706: FutureWarning: Using a non-tuple sequence for multidimensional indexing is deprecated; use `arr[tuple(seq)]` instead of `arr[seq]`. In the future this will be interpreted as an array index, `arr[np.array(seq)]`, which will result either in an error or a different result.\n",
      "  return np.add.reduce(sorted[indexer] * weights, axis=axis) / sumval\n"
     ]
    }
   ],
   "source": [
    "import seaborn as sns\n",
    "import matplotlib.pyplot as plt\n",
    "\n",
    "sns.distplot(df['baseline_preds'], kde=False)\n",
    "sns.distplot(df['final_stage_xgb_preds'], kde=False)\n",
    "\n",
    "plt.legend(['baseline', 'xgb'])\n",
    "plt.show()"
   ]
  },
  {
   "cell_type": "code",
   "execution_count": 12,
   "metadata": {},
   "outputs": [
    {
     "name": "stderr",
     "output_type": "stream",
     "text": [
      "C:\\Users\\Moeman\\Anaconda3\\lib\\site-packages\\scipy\\stats\\stats.py:1706: FutureWarning: Using a non-tuple sequence for multidimensional indexing is deprecated; use `arr[tuple(seq)]` instead of `arr[seq]`. In the future this will be interpreted as an array index, `arr[np.array(seq)]`, which will result either in an error or a different result.\n",
      "  return np.add.reduce(sorted[indexer] * weights, axis=axis) / sumval\n"
     ]
    }
   ],
   "source": [
    "sns.distplot(df['baseline_preds'], kde=False)\n",
    "plt.show()"
   ]
  },
  {
   "cell_type": "code",
   "execution_count": 7,
   "metadata": {},
   "outputs": [
    {
     "data": {
      "text/plain": [
       "(193,)"
      ]
     },
     "execution_count": 7,
     "metadata": {},
     "output_type": "execute_result"
    }
   ],
   "source": [
    "topk = 1000\n",
    "baseline_preds = df['baseline_preds'].values\n",
    "xgb_preds = df['final_stage_xgb_preds'].values\n",
    "baseline_topk = np.argsort(baseline_preds)[::-1][:topk]\n",
    "xgb_topk = np.argsort(xgb_preds)[::-1][:topk]\n",
    "np.intersect1d(baseline_topk, xgb_topk).shape"
   ]
  },
  {
   "cell_type": "code",
   "execution_count": 11,
   "metadata": {},
   "outputs": [
    {
     "data": {
      "text/plain": [
       "array([0.75510204, 0.74193548, 0.74193548, 0.7755102 , 0.71794872,\n",
       "       0.82978723, 0.72972973, 0.77142857, 0.81632653, 0.75925926,\n",
       "       0.75757576, 0.82978723, 0.82222222, 0.79166667, 0.74193548,\n",
       "       0.74193548, 0.80555556, 0.81481481, 0.78181818, 0.825     ,\n",
       "       0.78947368, 0.74576271, 0.74193548, 0.74576271, 0.75      ,\n",
       "       0.71428571, 0.7755102 , 1.        , 0.88      , 0.71428571,\n",
       "       0.78      , 0.75      , 0.74468085, 0.82608696, 0.78688525,\n",
       "       0.80392157, 0.74468085, 0.76190476, 0.73170732, 0.79166667,\n",
       "       0.7173913 , 1.        , 0.73333333, 1.        , 1.        ,\n",
       "       1.        , 1.        , 1.        , 0.78125   , 0.74193548,\n",
       "       0.77777778, 0.96666667, 0.96666667, 0.82857143, 0.96666667,\n",
       "       0.82857143, 0.80555556, 0.80555556, 0.79545455, 1.        ,\n",
       "       0.975     , 0.78723404, 0.71428571, 1.        , 0.74137931,\n",
       "       0.74418605, 0.97142857, 0.97435897, 1.        , 0.78571429,\n",
       "       1.        , 1.        , 0.78571429, 0.71794872, 0.71428571,\n",
       "       0.72727273, 0.71428571, 0.76315789, 0.77419355, 0.74193548,\n",
       "       0.79310345, 0.825     , 0.775     , 0.76923077, 0.78947368,\n",
       "       1.        , 0.78378378, 0.71794872, 1.        , 1.        ,\n",
       "       0.71794872, 0.75      , 0.71428571, 0.79487179, 0.78378378,\n",
       "       0.74074074, 0.74576271, 0.75      , 1.        , 0.7173913 ,\n",
       "       1.        , 1.        , 0.75      , 0.79166667, 0.72      ,\n",
       "       0.88888889, 0.84615385, 0.8627451 , 0.81355932, 1.        ,\n",
       "       0.94117647, 0.83050847, 0.83333333, 0.85454545, 0.71929825,\n",
       "       0.84615385, 0.75      , 0.72222222, 0.76      , 0.80392157,\n",
       "       0.74545455, 0.73214286, 0.8       , 0.73214286, 0.81034483,\n",
       "       0.8245614 , 0.8125    , 0.79166667, 0.7755102 , 0.76086957,\n",
       "       0.73469388, 0.90769231, 1.        , 0.97368421, 0.97368421,\n",
       "       0.88461538, 0.75555556, 0.79069767, 0.75609756, 0.75      ,\n",
       "       0.71929825, 0.88732394, 0.875     , 0.875     , 0.73584906,\n",
       "       0.72972973, 0.92727273, 0.92727273, 1.        , 1.        ,\n",
       "       0.76190476, 1.        , 1.        , 0.8372093 , 0.73913043,\n",
       "       0.7804878 , 0.75609756, 0.80952381, 0.77272727, 0.75      ,\n",
       "       0.76190476, 0.87804878, 0.75      , 0.76923077, 1.        ,\n",
       "       1.        , 0.73913043, 0.80392157, 0.76470588, 0.82142857,\n",
       "       0.74576271, 0.75471698, 0.82352941, 0.85185185, 0.74545455,\n",
       "       0.73913043, 0.7826087 , 0.71698113, 0.73214286, 0.73469388,\n",
       "       0.73913043, 0.73214286, 0.73170732, 0.76086957, 0.74358974,\n",
       "       0.76086957, 0.9       , 0.87804878, 0.72340426, 0.72      ,\n",
       "       0.95238095, 0.96551724, 0.82222222])"
      ]
     },
     "execution_count": 11,
     "metadata": {},
     "output_type": "execute_result"
    }
   ],
   "source": [
    "baseline_preds[np.intersect1d(baseline_topk, xgb_topk)]"
   ]
  },
  {
   "cell_type": "code",
   "execution_count": 10,
   "metadata": {},
   "outputs": [
    {
     "data": {
      "text/plain": [
       "array([0.32126719, 0.92331737, 0.92331737, 0.35573751, 0.34018371,\n",
       "       0.51037186, 0.70073563, 0.34231073, 0.6630941 , 0.36458284,\n",
       "       0.36633062, 0.63611245, 0.40260977, 0.5561381 , 0.98720211,\n",
       "       0.98720211, 0.59780782, 0.32389089, 0.59521937, 0.95457625,\n",
       "       0.97173351, 0.37381977, 0.92331737, 0.37381977, 0.67917436,\n",
       "       0.42884403, 0.38690418, 0.76613992, 0.54602116, 0.52633798,\n",
       "       0.3780556 , 0.57027203, 0.56503445, 0.32474348, 0.42497307,\n",
       "       0.63823372, 0.54964668, 0.5047065 , 0.51114404, 0.5561381 ,\n",
       "       0.48392972, 0.75244892, 0.33717543, 0.824633  , 0.88903236,\n",
       "       0.66057211, 0.69504434, 0.75244892, 0.86757374, 0.98720211,\n",
       "       0.33220294, 0.59500343, 0.59500343, 0.62680906, 0.59500343,\n",
       "       0.62680906, 0.59780782, 0.59780782, 0.31657323, 0.68870163,\n",
       "       0.61768508, 0.32360202, 0.3843824 , 0.73186302, 0.40563512,\n",
       "       0.45519009, 0.7085917 , 0.40038851, 0.84115094, 0.34891269,\n",
       "       0.650563  , 0.69926709, 0.34891269, 0.52520442, 0.43340391,\n",
       "       0.69391924, 0.51427454, 0.73971939, 0.65443909, 0.62736517,\n",
       "       0.980802  , 0.95457625, 0.87071538, 0.96895438, 0.97173351,\n",
       "       0.87011921, 0.5839411 , 0.31930032, 0.84254599, 0.87671679,\n",
       "       0.31930032, 0.49740511, 0.78160024, 0.6381498 , 0.75790441,\n",
       "       0.59275472, 0.37381977, 0.47856069, 0.76407123, 0.39698359,\n",
       "       0.63446808, 0.76407123, 0.75500274, 0.5561381 , 0.33328468,\n",
       "       0.93061566, 0.79621381, 0.43736303, 0.4163498 , 0.73950893,\n",
       "       0.43762931, 0.81392944, 0.35378277, 0.801759  , 0.55233735,\n",
       "       0.43661046, 0.42715186, 0.62791097, 0.80701977, 0.48679131,\n",
       "       0.75193584, 0.75218385, 0.54958355, 0.5266037 , 0.6286974 ,\n",
       "       0.56003821, 0.43259844, 0.53751272, 0.62517267, 0.56481338,\n",
       "       0.42518881, 0.33592159, 0.72573233, 0.77625293, 0.77625293,\n",
       "       0.40908486, 0.68280238, 0.64467406, 0.61841774, 0.75500274,\n",
       "       0.48640212, 0.55587691, 0.39467758, 0.39467758, 0.31373236,\n",
       "       0.61792296, 0.93313122, 0.93313122, 0.93390995, 0.89421409,\n",
       "       0.58828884, 0.31698442, 0.79368722, 0.70244241, 0.55754209,\n",
       "       0.92773819, 0.71602744, 0.38741589, 0.32264996, 0.37780526,\n",
       "       0.35484302, 0.88865882, 0.90541488, 0.68290055, 0.95989972,\n",
       "       0.72872114, 0.87596053, 0.43791205, 0.74632794, 0.95889062,\n",
       "       0.87919015, 0.41438091, 0.68541074, 0.71687371, 0.38701895,\n",
       "       0.71717721, 0.50948095, 0.70732284, 0.44134495, 0.54247516,\n",
       "       0.60960817, 0.62810487, 0.35702682, 0.43971637, 0.61120594,\n",
       "       0.37156641, 0.76427096, 0.77018374, 0.71280825, 0.66181713,\n",
       "       0.86664885, 0.61944574, 0.45241898])"
      ]
     },
     "execution_count": 10,
     "metadata": {},
     "output_type": "execute_result"
    }
   ],
   "source": [
    "xgb_preds[np.intersect1d(baseline_topk, xgb_topk)]"
   ]
  },
  {
   "cell_type": "code",
   "execution_count": null,
   "metadata": {
    "collapsed": true
   },
   "outputs": [],
   "source": []
  }
 ],
 "metadata": {
  "kernelspec": {
   "display_name": "Python 3",
   "language": "python",
   "name": "python3"
  },
  "language_info": {
   "codemirror_mode": {
    "name": "ipython",
    "version": 3
   },
   "file_extension": ".py",
   "mimetype": "text/x-python",
   "name": "python",
   "nbconvert_exporter": "python",
   "pygments_lexer": "ipython3",
   "version": "3.6.8"
  }
 },
 "nbformat": 4,
 "nbformat_minor": 1
}
