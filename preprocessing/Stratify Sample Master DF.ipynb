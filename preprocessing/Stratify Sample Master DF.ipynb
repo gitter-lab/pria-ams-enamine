{
 "cells": [
  {
   "cell_type": "code",
   "execution_count": 1,
   "metadata": {
    "collapsed": false,
    "deletable": true,
    "editable": true
   },
   "outputs": [
    {
     "name": "stdout",
     "output_type": "stream",
     "text": [
      "Total molecules: 427300, Total active: 100, Total inactive: 427200\n"
     ]
    }
   ],
   "source": [
    "import pandas as pd\n",
    "import numpy as np\n",
    "import os\n",
    "\n",
    "FP_size, FP_radius = 1024, 2\n",
    "output_dir = '../datasets/'\n",
    "n_folds = 10\n",
    "random_seed = 20181210\n",
    "np.random.seed(random_seed)\n",
    "\n",
    "master_df_file = '../datasets/master_df/master_mlpcn_lc_2018_10_12.csv.gz'\n",
    "master_df = pd.read_csv(master_df_file,\n",
    "                        compression='gzip')\n",
    "\n",
    "# step 1: remove retests\n",
    "retest_rows = master_df['Plate Name'].str.contains('CP')\n",
    "master_df = master_df[~retest_rows]\n",
    "\n",
    "# step 2: standardize library ids\n",
    "library_id_dict = {'LC-3': 'LC3', 'Life Chemicals 1': 'LC1', \n",
    "                   'Life Chemical 2': 'LC2', 'LC-4': 'LC4',\n",
    "                   '2011 MLPCN': 'MLPCN', '2011MLPCN': 'MLPCN'}\n",
    "for library_id in pd.unique(master_df['Library ID']):\n",
    "    matching_lids = master_df['Library ID'] == library_id\n",
    "    master_df.loc[matching_lids, 'Library ID'] = library_id_dict[library_id]\n",
    "    \n",
    "# step 3: drop unneeded columns\n",
    "master_df = master_df[['Molecule ID', 'Duplicate ID', 'SMSSF ID', 'Library ID', \n",
    "                       'rdkit SMILES', '{} MorganFP Radius {}'.format(FP_size, FP_radius),\n",
    "                       'PriA-SSB AS % inhibition', 'PriA-SSB AS Activity',\n",
    "                       'Primary Filter', 'Retest Filter', 'PAINS Filter']]\n",
    "\n",
    "# step 4: group by Molecule ID and calculate median of primary screens\n",
    "def grouping_logic(grouped_df):\n",
    "     return pd.Series({'SMSSF ID': ', '.join(list(set(grouped_df['SMSSF ID']))),\n",
    "                       'Library ID': ', '.join(list(set(grouped_df['Library ID']))),\n",
    "                       'rdkit SMILES': grouped_df['rdkit SMILES'].iloc[0],\n",
    "                       '{} MorganFP Radius {}'.format(FP_size, FP_radius): grouped_df['{} MorganFP Radius {}'.format(FP_size, FP_radius)].iloc[0],\n",
    "                       'PriA-SSB AS % inhibition (Primary Median)': grouped_df['PriA-SSB AS % inhibition'].median(),\n",
    "                       'PriA-SSB AS Activity': grouped_df['PriA-SSB AS Activity'].iloc[0], \n",
    "                       'Primary Filter': grouped_df['Primary Filter'].iloc[0],\n",
    "                       'Retest Filter': grouped_df['Retest Filter'].iloc[0],\n",
    "                       'PAINS Filter': grouped_df['PAINS Filter'].iloc[0]})\n",
    "    \n",
    "grouped_by_molid = master_df.groupby(by='Molecule ID')\n",
    "res_df = grouped_by_molid.apply(grouping_logic)\n",
    "res_df['Molecule ID'] = res_df.index\n",
    "res_df = res_df[['Molecule ID', 'SMSSF ID', 'Library ID', \n",
    "                 'rdkit SMILES', '{} MorganFP Radius {}'.format(FP_size, FP_radius),\n",
    "                 'PriA-SSB AS % inhibition (Primary Median)', 'PriA-SSB AS Activity',\n",
    "                 'Primary Filter', 'Retest Filter', 'PAINS Filter']]\n",
    "res_df = res_df.reset_index(level=0, drop=True)\n",
    "res_df[['PriA-SSB AS Activity', 'Primary Filter', \n",
    "        'Retest Filter', 'PAINS Filter']] = res_df[['PriA-SSB AS Activity', 'Primary Filter', \n",
    "                                                    'Retest Filter', 'PAINS Filter']].astype(float)\n",
    "\n",
    "# save current df\n",
    "res_df.to_csv(output_dir+'/folds/training_df_single_fold.csv.gz',\n",
    "              index=False,\n",
    "              compression='gzip')\n",
    "print('Total molecules: {}, Total active: {}, Total inactive: {}'.format(res_df.shape[0], \n",
    "                                                                        res_df[res_df['PriA-SSB AS Activity'] == 1].shape[0], \n",
    "                                                                        res_df[res_df['PriA-SSB AS Activity'] == 0].shape[0]))"
   ]
  },
  {
   "cell_type": "markdown",
   "metadata": {},
   "source": [
    "## Group by Library ID and then Stratify"
   ]
  },
  {
   "cell_type": "code",
   "execution_count": 2,
   "metadata": {
    "collapsed": false,
    "scrolled": true
   },
   "outputs": [
    {
     "name": "stdout",
     "output_type": "stream",
     "text": [
      "Stratify folding by library id\n",
      "Fold 0: Total molecules: 42735, Total active: 10, Total inactive: 42725\n",
      "Fold 1: Total molecules: 42737, Total active: 10, Total inactive: 42727\n",
      "Fold 2: Total molecules: 42734, Total active: 10, Total inactive: 42724\n",
      "Fold 3: Total molecules: 42730, Total active: 10, Total inactive: 42720\n",
      "Fold 4: Total molecules: 42729, Total active: 10, Total inactive: 42719\n",
      "Fold 5: Total molecules: 42727, Total active: 10, Total inactive: 42717\n",
      "Fold 6: Total molecules: 42728, Total active: 10, Total inactive: 42718\n",
      "Fold 7: Total molecules: 42727, Total active: 10, Total inactive: 42717\n",
      "Fold 8: Total molecules: 42728, Total active: 10, Total inactive: 42718\n",
      "Fold 9: Total molecules: 42725, Total active: 10, Total inactive: 42715\n",
      "Total molecules: 427300, Total active: 100, Total inactive: 427200\n"
     ]
    }
   ],
   "source": [
    "# step 5: seperate by library id, then stratify sample by library id\n",
    "fold_lists = [([],[]) for _ in range(n_folds)]\n",
    "fold_actives_counts = np.array([0 for i in range(n_folds)]) # maintain number of actives in each fold \n",
    "for library_id in pd.unique(res_df['Library ID']):\n",
    "    matching_lids = res_df['Library ID'] == library_id\n",
    "    curr_df = res_df[matching_lids]\n",
    "    active_inds = np.random.permutation(np.array(curr_df[curr_df['PriA-SSB AS Activity'] == 1].index))\n",
    "    inactive_inds = np.random.permutation(np.array(curr_df[curr_df['PriA-SSB AS Activity'] == 0].index))\n",
    "    active_inds = np.array_split(active_inds, n_folds)\n",
    "    inactive_inds = np.array_split(inactive_inds, n_folds)\n",
    "    for i, fl_i in enumerate(np.argsort(fold_actives_counts)):\n",
    "        fold_lists[fl_i][0].extend(active_inds[i])\n",
    "        fold_lists[fl_i][1].extend(inactive_inds[i])\n",
    "        fold_actives_counts[fl_i] += len(active_inds[i])\n",
    "\n",
    "print('Stratify folding by library id')\n",
    "total_mols = 0\n",
    "total_actives = 0\n",
    "total_inactives = 0\n",
    "for i in range(n_folds):\n",
    "    fold_df = res_df.iloc[fold_lists[i][0]+fold_lists[i][1],:]\n",
    "    fold_mols = fold_df.shape[0]\n",
    "    fold_actives = fold_df[fold_df['PriA-SSB AS Activity'] == 1].shape[0]\n",
    "    fold_inactives = fold_df[fold_df['PriA-SSB AS Activity'] == 0].shape[0]\n",
    "    total_mols += fold_mols\n",
    "    total_actives += fold_actives\n",
    "    total_inactives += fold_inactives\n",
    "    \n",
    "    fold_df.to_csv(output_dir+'/folds/library_strat_folds/fold_{}.csv'.format(i), \n",
    "                   index=False)\n",
    "    print('Fold {}: Total molecules: {}, Total active: {}, Total inactive: {}'.format(i, fold_mols, \n",
    "                                                                                    fold_actives, \n",
    "                                                                                    fold_inactives))\n",
    "print('Total molecules: {}, Total active: {}, Total inactive: {}'.format(total_mols, \n",
    "                                                                         total_actives, \n",
    "                                                                         total_inactives))\n",
    "\n",
    "assert total_mols == res_df.shape[0] and \\\n",
    "       total_actives == res_df[res_df['PriA-SSB AS Activity'] == 1].shape[0] and \\\n",
    "       total_inactives == res_df[res_df['PriA-SSB AS Activity'] == 0].shape[0]"
   ]
  },
  {
   "cell_type": "markdown",
   "metadata": {},
   "source": [
    "## Directly Stratify"
   ]
  },
  {
   "cell_type": "code",
   "execution_count": 3,
   "metadata": {
    "collapsed": false
   },
   "outputs": [
    {
     "name": "stdout",
     "output_type": "stream",
     "text": [
      "Plain stratify folding\n",
      "Fold 0: Total molecules: 42730, Total active: 10, Total inactive: 42720\n",
      "Fold 1: Total molecules: 42730, Total active: 10, Total inactive: 42720\n",
      "Fold 2: Total molecules: 42730, Total active: 10, Total inactive: 42720\n",
      "Fold 3: Total molecules: 42730, Total active: 10, Total inactive: 42720\n",
      "Fold 4: Total molecules: 42730, Total active: 10, Total inactive: 42720\n",
      "Fold 5: Total molecules: 42730, Total active: 10, Total inactive: 42720\n",
      "Fold 6: Total molecules: 42730, Total active: 10, Total inactive: 42720\n",
      "Fold 7: Total molecules: 42730, Total active: 10, Total inactive: 42720\n",
      "Fold 8: Total molecules: 42730, Total active: 10, Total inactive: 42720\n",
      "Fold 9: Total molecules: 42730, Total active: 10, Total inactive: 42720\n",
      "Total molecules: 427300, Total active: 100, Total inactive: 427200\n"
     ]
    }
   ],
   "source": [
    "# step 6: seperate by library id, then stratify sample by library id\n",
    "fold_lists = [([],[]) for _ in range(n_folds)]\n",
    "active_inds = np.random.permutation(np.array(res_df[res_df['PriA-SSB AS Activity'] == 1].index))\n",
    "inactive_inds = np.random.permutation(np.array(res_df[res_df['PriA-SSB AS Activity'] == 0].index))\n",
    "active_inds = np.array_split(active_inds, n_folds)\n",
    "inactive_inds = np.array_split(inactive_inds, n_folds)\n",
    "for i in range(n_folds):\n",
    "    fold_lists[i][0].extend(active_inds[i])\n",
    "    fold_lists[i][1].extend(inactive_inds[i])\n",
    "\n",
    "print('Plain stratify folding')\n",
    "total_mols = 0\n",
    "total_actives = 0\n",
    "total_inactives = 0\n",
    "for i in range(n_folds):\n",
    "    fold_df = res_df.iloc[fold_lists[i][0]+fold_lists[i][1],:]\n",
    "    fold_mols = fold_df.shape[0]\n",
    "    fold_actives = fold_df[fold_df['PriA-SSB AS Activity'] == 1].shape[0]\n",
    "    fold_inactives = fold_df[fold_df['PriA-SSB AS Activity'] == 0].shape[0]\n",
    "    total_mols += fold_mols\n",
    "    total_actives += fold_actives\n",
    "    total_inactives += fold_inactives\n",
    "    \n",
    "    fold_df.to_csv(output_dir+'/folds/strat_only_folds/fold_{}.csv'.format(i), \n",
    "                   index=False)\n",
    "    print('Fold {}: Total molecules: {}, Total active: {}, Total inactive: {}'.format(i, fold_mols, \n",
    "                                                                                    fold_actives, \n",
    "                                                                                    fold_inactives))\n",
    "print('Total molecules: {}, Total active: {}, Total inactive: {}'.format(total_mols, \n",
    "                                                                         total_actives, \n",
    "                                                                         total_inactives))\n",
    "\n",
    "assert total_mols == res_df.shape[0] and \\\n",
    "       total_actives == res_df[res_df['PriA-SSB AS Activity'] == 1].shape[0] and \\\n",
    "       total_inactives == res_df[res_df['PriA-SSB AS Activity'] == 0].shape[0]"
   ]
  },
  {
   "cell_type": "code",
   "execution_count": 5,
   "metadata": {
    "collapsed": false
   },
   "outputs": [],
   "source": [
    "import tarfile\n",
    "tar = tarfile.open(output_dir+'/lc_mlpcn_folds_2018_10_12.tar.gz', 'w:gz')\n",
    "tar.add(output_dir+'/folds/', arcname='lc_mlpcn_folds_2018_10_12')\n",
    "tar.close()"
   ]
  },
  {
   "cell_type": "code",
   "execution_count": null,
   "metadata": {
    "collapsed": true
   },
   "outputs": [],
   "source": []
  }
 ],
 "metadata": {
  "kernelspec": {
   "display_name": "Python 3",
   "language": "python",
   "name": "python3"
  },
  "language_info": {
   "codemirror_mode": {
    "name": "ipython",
    "version": 3
   },
   "file_extension": ".py",
   "mimetype": "text/x-python",
   "name": "python",
   "nbconvert_exporter": "python",
   "pygments_lexer": "ipython3",
   "version": "3.5.1"
  }
 },
 "nbformat": 4,
 "nbformat_minor": 0
}
