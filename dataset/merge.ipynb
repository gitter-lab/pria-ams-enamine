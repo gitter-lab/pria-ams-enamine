{
 "cells": [
  {
   "cell_type": "code",
   "execution_count": 2,
   "metadata": {
    "collapsed": true
   },
   "outputs": [],
   "source": [
    "import numpy as np\n",
    "import pandas as pd\n",
    "import os"
   ]
  },
  {
   "cell_type": "code",
   "execution_count": 12,
   "metadata": {
    "collapsed": false
   },
   "outputs": [
    {
     "name": "stdout",
     "output_type": "stream",
     "text": [
      "(14486, 8)\n"
     ]
    },
    {
     "name": "stderr",
     "output_type": "stream",
     "text": [
      "/home/sliu426/anaconda/lib/python2.7/site-packages/ipykernel/__main__.py:39: FutureWarning: Sorting because non-concatenation axis is not aligned. A future version\n",
      "of pandas will change to not sort by default.\n",
      "\n",
      "To accept the future behavior, pass 'sort=False'.\n",
      "\n",
      "To retain the current behavior and silence the warning, pass 'sort=True'.\n",
      "\n",
      "/home/sliu426/anaconda/lib/python2.7/site-packages/ipykernel/__main__.py:40: FutureWarning: Sorting because non-concatenation axis is not aligned. A future version\n",
      "of pandas will change to not sort by default.\n",
      "\n",
      "To accept the future behavior, pass 'sort=False'.\n",
      "\n",
      "To retain the current behavior and silence the warning, pass 'sort=True'.\n",
      "\n"
     ]
    },
    {
     "name": "stdout",
     "output_type": "stream",
     "text": [
      "(7243, 8) + (34056, 5) + (2244, 5)=> (43543, 8)\n",
      "(7243, 8) + (34056, 5) + (2244, 5) => (43543, 8)\n",
      "(14482, 8)\n",
      "(7241, 8) + (34056, 5) + (2244, 5)=> (43541, 8)\n",
      "(7241, 8) + (34056, 5) + (2244, 5) => (43541, 8)\n",
      "(14484, 8)\n",
      "(7242, 8) + (34056, 5) + (2243, 5)=> (43541, 8)\n",
      "(7242, 8) + (34055, 5) + (2243, 5) => (43540, 8)\n",
      "(14485, 8)\n",
      "(7242, 8) + (34055, 5) + (2243, 5)=> (43540, 8)\n",
      "(7243, 8) + (34055, 5) + (2243, 5) => (43541, 8)\n",
      "(14486, 8)\n",
      "(7243, 8) + (34055, 5) + (2243, 5)=> (43541, 8)\n",
      "(7243, 8) + (34054, 5) + (2243, 5) => (43540, 8)\n"
     ]
    }
   ],
   "source": [
    "lifechem_folder = 'keck_pria_lifechem'\n",
    "mlpcn_folder = 'keck_pria_MLPCN'\n",
    "\n",
    "keck_pria_lc4_retest_data = pd.read_csv('{}/{}'.format(lifechem_folder, 'pria_prospective_2018_07_31.csv.gz'))\n",
    "\n",
    "def save_and_load_lc4_index():\n",
    "    lc4_index_file = 'lc4_index_for_merging_mlpcn_lifechem.npz'\n",
    "    if os.path.exists(lc4_index_file):\n",
    "        data = np.load(lc4_index_file)\n",
    "        lc4_index = data['lc4_index']\n",
    "        return lc4_index\n",
    "    lc4_length = keck_pria_lc4_retest_data.shape[0]\n",
    "    lc4_index = np.arange(lc4_length)\n",
    "    np.random.shuffle(lc4_index)\n",
    "    np.savez_compressed(lc4_index_file, lc4_index=lc4_index)\n",
    "    return lc4_index\n",
    "\n",
    "lc4_index = save_and_load_lc4_index()\n",
    "lc4_index_split = np.array_split(lc4_index, 10)\n",
    "\n",
    "for i in range(5):\n",
    "    lifechem_data = pd.read_csv('{}/{}.csv'.format(lifechem_folder, i))\n",
    "    print(lifechem_data.shape)\n",
    "\n",
    "    l = lifechem_data.shape[0]\n",
    "    first_half_index = np.arange(l)[:l / 2]\n",
    "    second_half_index = np.arange(l)[l / 2:]\n",
    "    first_half_data = lifechem_data.iloc[first_half_index]\n",
    "    second_half_data = lifechem_data.iloc[second_half_index]\n",
    "\n",
    "    lc4_first_index = lc4_index_split[2 * i]\n",
    "    lc4_second_index = lc4_index_split[2 * i + 1]\n",
    "    lifechem_lc4_first = keck_pria_lc4_retest_data.iloc[lc4_first_index]\n",
    "    lifechem_lc4_second = keck_pria_lc4_retest_data.iloc[lc4_second_index]\n",
    "\n",
    "    mlpcn_data_first = pd.read_csv('{}/{}.csv.gz'.format(mlpcn_folder, i * 2))\n",
    "    mlpcn_data_second = pd.read_csv('{}/{}.csv.gz'.format(mlpcn_folder, i * 2 + 1))\n",
    "\n",
    "    keck_first_data = pd.concat([first_half_data, lifechem_lc4_first, mlpcn_data_first])\n",
    "    keck_second_data = pd.concat([second_half_data, lifechem_lc4_second, mlpcn_data_second])\n",
    "\n",
    "    print('{} + {} + {}=> {}'.format(first_half_data.shape, mlpcn_data_first.shape, lifechem_lc4_first.shape,\n",
    "                                     keck_first_data.shape))\n",
    "    print('{} + {} + {} => {}'.format(second_half_data.shape, mlpcn_data_second.shape, lifechem_lc4_second.shape,\n",
    "                                      keck_second_data.shape))\n",
    "\n",
    "#     keck_first_data.to_csv('./keck_pria/{}.csv.gz'.format(2 * i), compression='gzip', index=None)\n",
    "#     keck_second_data.to_csv('./keck_pria/{}.csv.gz'.format(2 * i + 1), compression='gzip', index=None)\n",
    "#     print()"
   ]
  }
 ],
 "metadata": {
  "kernelspec": {
   "display_name": "Python 2",
   "language": "python",
   "name": "python2"
  },
  "language_info": {
   "codemirror_mode": {
    "name": "ipython",
    "version": 2
   },
   "file_extension": ".py",
   "mimetype": "text/x-python",
   "name": "python",
   "nbconvert_exporter": "python",
   "pygments_lexer": "ipython2",
   "version": "2.7.14"
  }
 },
 "nbformat": 4,
 "nbformat_minor": 2
}
