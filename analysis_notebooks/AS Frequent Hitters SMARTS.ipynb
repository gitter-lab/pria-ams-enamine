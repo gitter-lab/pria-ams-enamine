{
 "cells": [
  {
   "cell_type": "code",
   "execution_count": 1,
   "metadata": {},
   "outputs": [],
   "source": [
    "import pandas as pd\n",
    "import numpy as np\n",
    "import warnings\n",
    "warnings.filterwarnings('ignore')\n",
    "\n",
    "concentration_col = 'Concentration (uM)'\n",
    "concentration_val = 33\n",
    "ic50_col = 'PriA-SSB Dose response: IC50 (uM)'\n",
    "median_inhib_col = 'Median % negative control (%)'\n",
    "inhib_col = '% negative control (%)'\n",
    "\n",
    "res_full_df = pd.read_csv('../datasets/Zenodo/v1/enamine_PriA-SSB_dose_response_2021-06-16_run.tsv', delimiter='\\t', keep_default_na=False)\n",
    "res_full_df = res_full_df[res_full_df['Control State'] == '']\n",
    "res_full_df[concentration_col] = res_full_df[concentration_col].astype(float)\n",
    "res_df = res_full_df[res_full_df[concentration_col] == concentration_val]\n",
    "res_df = res_df[['Molecule Name', 'Structure (CXSMILES)', concentration_col, inhib_col]]\n",
    "res_df.index = res_df['Molecule Name'].tolist()\n",
    "res_df[median_inhib_col] = 0\n",
    "for smssf_id, row in res_df.groupby('Molecule Name').median().iterrows():\n",
    "    res_df.loc[smssf_id, median_inhib_col] = row[inhib_col]\n",
    "    res_df.loc[smssf_id, median_inhib_col] = row[inhib_col]\n",
    "res_df = res_df.reset_index(drop=True)\n",
    "\n",
    "inhib_col = '% Inhibition'\n",
    "hit_thresh = 50.0\n",
    "res_df[inhib_col] = 100.0 - res_df[median_inhib_col]\n",
    "res_df['Hit_median_50_thresh'] = (res_df[inhib_col] >= hit_thresh).astype(int)\n",
    "\n",
    "all_runs_df = pd.read_csv('../datasets/Zenodo/v1/enamine_dose_reponse_curves.tsv', delimiter='\\t').drop_duplicates('Synonyms')\n",
    "res_df = res_df.merge(all_runs_df[['Molecule Name', 'Synonyms']], on='Molecule Name')\n",
    "\n",
    "assert res_df['Molecule Name'].unique().shape[0] == 68\n",
    "assert res_df['Synonyms'].unique().shape[0] == 68\n",
    "\n",
    "res_df = res_df.rename({'Molecule Name' : 'SMSSF Molecule ID', 'Synonyms': 'ID Enamine', 'Structure (CXSMILES)': 'SMSSF SMILES'}, axis=1)"
   ]
  },
  {
   "cell_type": "code",
   "execution_count": 2,
   "metadata": {},
   "outputs": [],
   "source": [
    "from rdkit import Chem\n",
    "from rdkit.Chem import AllChem\n",
    "from rdkit.Chem.SaltRemover import SaltRemover\n",
    "from rdkit.Chem.FilterCatalog import *\n",
    "\n",
    "import pandas as pd\n",
    "import numpy as np\n",
    "import warnings\n",
    "warnings.filterwarnings('ignore')\n",
    "\n",
    "as_frh_filter_col = 'AS FRH Filter'\n",
    "smiles_col = 'rdkit SMILES'\n",
    "\n",
    "ams_df = pd.read_csv('../datasets/Zenodo/v1/ams_order_results.csv.gz')\n",
    "train_df = pd.read_csv('../datasets/Zenodo/v1/training_df_single_fold.csv.gz')\n",
    "train_df = train_df[~train_df[smiles_col].isna()]\n",
    "\n",
    "real_df = res_df.copy().drop_duplicates('SMSSF Molecule ID')\n",
    "real_cpd_info_df = pd.read_csv('../datasets/Zenodo/v1/enamine_final_list.csv.gz').drop('Hit', axis=1)\n",
    "real_df = real_df.merge(real_cpd_info_df, on='ID Enamine')\n",
    "\n",
    "train_df = train_df[[smiles_col, 'PriA-SSB AS Activity']]\n",
    "ams_df = ams_df[[smiles_col, 'Hit']]\n",
    "real_df = real_df[[smiles_col, 'Hit_median_50_thresh']]\n",
    "\n",
    "train_df[as_frh_filter_col] = 0\n",
    "ams_df[as_frh_filter_col] = 0\n",
    "real_df[as_frh_filter_col] = 0\n",
    "\n",
    "train_actives = train_df[train_df['PriA-SSB AS Activity'] == 1]\n",
    "ams_actives = ams_df[ams_df['Hit'] == 1]\n",
    "real_actives = real_df[real_df['Hit_median_50_thresh'] == 1]\n",
    "\n",
    "train_inactives = train_df[train_df['PriA-SSB AS Activity'] != 1]\n",
    "ams_inactives = ams_df[ams_df['Hit'] != 1]\n",
    "real_inactives = real_df[real_df['Hit_median_50_thresh'] != 1]"
   ]
  },
  {
   "cell_type": "code",
   "execution_count": 3,
   "metadata": {},
   "outputs": [],
   "source": [
    "# read in smarts patterns and create rdkit mols\n",
    "smarts_list = pd.read_csv('../datasets/patterns/ToxAlerts_Schorpp2014_SMARTS.txt', delimiter=': ', header=None)[1].tolist()\n",
    "smarts_patterns = [Chem.MolFromSmarts(smarts) for smarts in smarts_list]\n",
    "\n",
    "# define filter function for convenience\n",
    "def apply_frh_filter(smiles_series, smarts_patterns, smiles_col = 'rdkit SMILES'):\n",
    "        mol_series = smiles_series.astype(str).apply((lambda x: Chem.MolFromSmiles(x)))\n",
    "        frh_series = mol_series.apply((lambda x: any([x.HasSubstructMatch(smarts) for smarts in smarts_patterns]) ))\n",
    "        return frh_series.tolist()"
   ]
  },
  {
   "cell_type": "markdown",
   "metadata": {},
   "source": [
    "---\n",
    "# Check Active/Hit Compounds"
   ]
  },
  {
   "cell_type": "code",
   "execution_count": 4,
   "metadata": {},
   "outputs": [],
   "source": [
    "train_actives[as_frh_filter_col] = apply_frh_filter(train_actives[smiles_col], smarts_patterns)\n",
    "ams_actives[as_frh_filter_col] = apply_frh_filter(ams_actives[smiles_col], smarts_patterns)\n",
    "real_actives[as_frh_filter_col] = apply_frh_filter(real_actives[smiles_col], smarts_patterns)"
   ]
  },
  {
   "cell_type": "code",
   "execution_count": 5,
   "metadata": {},
   "outputs": [
    {
     "name": "stdout",
     "output_type": "stream",
     "text": [
      "Train AS Freq. Hitters: 150 out of 554 active compounds.\n",
      "AMS AS Freq. Hitters:   182 out of 412 active compounds.\n",
      "REAL AS Freq. Hitters:  19 out of 31 active compounds.\n"
     ]
    }
   ],
   "source": [
    "print('Train AS Freq. Hitters: {} out of {} active compounds.'.format(train_actives[as_frh_filter_col].sum(), \n",
    "                                                                      train_actives.shape[0]))\n",
    "print('AMS AS Freq. Hitters:   {} out of {} active compounds.'.format(ams_actives[as_frh_filter_col].sum(), \n",
    "                                                                      ams_actives.shape[0]))\n",
    "print('REAL AS Freq. Hitters:  {} out of {} active compounds.'.format(real_actives[as_frh_filter_col].sum(), \n",
    "                                                                      real_actives.shape[0]))"
   ]
  },
  {
   "cell_type": "markdown",
   "metadata": {},
   "source": [
    "---\n",
    "# Check Inactive Compounds"
   ]
  },
  {
   "cell_type": "code",
   "execution_count": 6,
   "metadata": {},
   "outputs": [],
   "source": [
    "train_inactives[as_frh_filter_col] = apply_frh_filter(train_inactives[smiles_col], smarts_patterns)\n",
    "ams_inactives[as_frh_filter_col] = apply_frh_filter(ams_inactives[smiles_col], smarts_patterns)\n",
    "real_inactives[as_frh_filter_col] = apply_frh_filter(real_inactives[smiles_col], smarts_patterns)"
   ]
  },
  {
   "cell_type": "code",
   "execution_count": 7,
   "metadata": {},
   "outputs": [
    {
     "name": "stdout",
     "output_type": "stream",
     "text": [
      "Train AS Freq. Hitters: 3281 out of 426745 inactive compounds.\n",
      "AMS AS Freq. Hitters:   149 out of 612 inactive compounds.\n",
      "REAL AS Freq. Hitters:  4 out of 37 inactive compounds.\n"
     ]
    }
   ],
   "source": [
    "print('Train AS Freq. Hitters: {} out of {} inactive compounds.'.format(train_inactives[as_frh_filter_col].sum(), \n",
    "                                                                      train_inactives.shape[0]))\n",
    "print('AMS AS Freq. Hitters:   {} out of {} inactive compounds.'.format(ams_inactives[as_frh_filter_col].sum(), \n",
    "                                                                        ams_inactives.shape[0]))\n",
    "print('REAL AS Freq. Hitters:  {} out of {} inactive compounds.'.format(real_inactives[as_frh_filter_col].sum(), \n",
    "                                                                        real_inactives.shape[0]))"
   ]
  }
 ],
 "metadata": {
  "kernelspec": {
   "display_name": "Python 3 (ipykernel)",
   "language": "python",
   "name": "python3"
  },
  "language_info": {
   "codemirror_mode": {
    "name": "ipython",
    "version": 3
   },
   "file_extension": ".py",
   "mimetype": "text/x-python",
   "name": "python",
   "nbconvert_exporter": "python",
   "pygments_lexer": "ipython3",
   "version": "3.9.13"
  }
 },
 "nbformat": 4,
 "nbformat_minor": 2
}
