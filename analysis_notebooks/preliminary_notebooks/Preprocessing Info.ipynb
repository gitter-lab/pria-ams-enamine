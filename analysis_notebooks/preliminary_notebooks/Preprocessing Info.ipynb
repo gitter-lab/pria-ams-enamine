{
 "cells": [
  {
   "cell_type": "code",
   "execution_count": 1,
   "metadata": {},
   "outputs": [
    {
     "name": "stdout",
     "output_type": "stream",
     "text": [
      "['LC-3' 'Life Chemicals 1' nan 'Life Chemical 2']\n",
      "['LC-3' 'Life Chemicals 1' nan '2011 MLPCN' '2011MLPCN' 'NCC1&amp;2'\n",
      " 'Life Chemical 2']\n",
      "['LC-4' nan]\n",
      "['2011 MLPCN' nan '2011MLPCN']\n",
      "['2011 MLPCN' '2011MLPCN' 'Life Chemicals 1' 'Life Chemical 2']\n"
     ]
    }
   ],
   "source": [
    "import pandas as pd\n",
    "import numpy as np\n",
    "\n",
    "raw_files = ['../datasets/raw/CDD CSV Export - LC123 Primary.csv',\n",
    "            '../datasets/raw/CDD CSV Export - LC123 Retest.csv',\n",
    "            '../datasets/raw/CDD CSV Export - LC4 Primary.csv',\n",
    "            '../datasets/raw/CDD CSV Export - MLPCN Primary.csv',\n",
    "            '../datasets/raw/CDD CSV Export - MLPCN Retest.csv']\n",
    "\n",
    "for r in raw_files:\n",
    "    df = pd.read_csv(r)\n",
    "    print(df['Library ID'].unique())"
   ]
  },
  {
   "cell_type": "code",
   "execution_count": 18,
   "metadata": {},
   "outputs": [],
   "source": [
    "df = pd.read_csv('../datasets/master_df/master_mlpcn_lc_2018_10_18.csv.gz')"
   ]
  },
  {
   "cell_type": "code",
   "execution_count": 2,
   "metadata": {},
   "outputs": [
    {
     "name": "stdout",
     "output_type": "stream",
     "text": [
      "Index(['Molecule Name', 'SMILES', 'Batch Name', 'Library ID', 'Plate Name',\n",
      "       'Plate Well',\n",
      "       'PriA-SSB AS, normalized for plate and edge effects, correct plate map: Run Date',\n",
      "       'PriA-SSB AS, normalized for plate and edge effects, correct plate map: % inhibition Alpha, normalized (%)'],\n",
      "      dtype='object')\n",
      "Index(['Molecule Name', 'SMILES', 'Batch Name', 'Library ID', 'Plate Name',\n",
      "       'Plate Well',\n",
      "       'PriA-SSB AS, normalized for plate and edge effects, correct plate map: Run Date',\n",
      "       'PriA-SSB AS, normalized for plate and edge effects, correct plate map: % inhibition Alpha, normalized (%)'],\n",
      "      dtype='object')\n",
      "Index(['Molecule Name', 'SMILES', 'Batch Name', 'Library ID', 'Plate Name',\n",
      "       'Plate Well',\n",
      "       'PriA-SSB AS, normalized for plate and edge effects, correct plate map: Run Date',\n",
      "       'PriA-SSB AS, normalized for plate and edge effects, correct plate map: % inhibition Alpha, normalized (%)'],\n",
      "      dtype='object')\n",
      "Index(['Molecule Name', 'SMILES', 'Batch Name', 'Library ID', 'Plate Name',\n",
      "       'Plate Well',\n",
      "       'PriA-SSB AS, normalized for plate and edge effects, correct plate map: Run Date',\n",
      "       'PriA-SSB AS, normalized for plate and edge effects, correct plate map: % inhibition Alpha, normalized (%)'],\n",
      "      dtype='object')\n",
      "Index(['Molecule Name', 'SMILES', 'Batch Name', 'Library ID', 'Plate Name',\n",
      "       'Plate Well', 'KpnPriA-SSB MLPCN CP AS dose-response: Run Date',\n",
      "       'KpnPriA-SSB MLPCN CP AS: % inhibition'],\n",
      "      dtype='object')\n"
     ]
    }
   ],
   "source": [
    "for r in raw_files:\n",
    "    df = pd.read_csv(r)\n",
    "    print(df.columns)"
   ]
  },
  {
   "cell_type": "code",
   "execution_count": 24,
   "metadata": {},
   "outputs": [
    {
     "data": {
      "text/plain": [
       "(Index(['Unnamed: 0', 'SMSSF ID', 'CDD SMILES', 'Batch Name', 'Library ID',\n",
       "        'Plate Name', 'Plate Well', 'Run Date', 'PriA-SSB AS % inhibition'],\n",
       "       dtype='object'), (442274, 9))"
      ]
     },
     "execution_count": 24,
     "metadata": {},
     "output_type": "execute_result"
    }
   ],
   "source": [
    "df2 = pd.read_csv('../datasets/raw/merged_cdd_2018_10_15.csv.gz')\n",
    "df2.columns, df2.shape"
   ]
  },
  {
   "cell_type": "code",
   "execution_count": 14,
   "metadata": {},
   "outputs": [],
   "source": [
    "import pandas as pd\n",
    "import numpy as np\n",
    "\n",
    "folds_df = [pd.read_csv('../datasets/folds/library_strat_folds/fold_{}.csv'.format(i)) for i in range(10)]\n",
    "train_df = pd.read_csv('../datasets/folds/training_df_single_fold_with_clustering.csv.gz')\n",
    "train_df['Fold ID'] = 0\n",
    "\n",
    "for i, tmp_df in enumerate(folds_df):\n",
    "    merge_df = pd.merge(train_df, tmp_df, on='Molecule ID')\n",
    "    assert merge_df.shape[0] == tmp_df.shape[0]\n",
    "    molid_list = merge_df['Molecule ID'].tolist()\n",
    "    train_df.loc[train_df['Molecule ID'].isin(molid_list),'Fold ID'] = i\n",
    "    \n",
    "train_df.to_csv('../datasets/folds/training_df_single_fold_with_clustering_v2.csv.gz', index=False)"
   ]
  },
  {
   "cell_type": "code",
   "execution_count": 11,
   "metadata": {},
   "outputs": [
    {
     "data": {
      "text/html": [
       "<div>\n",
       "<style scoped>\n",
       "    .dataframe tbody tr th:only-of-type {\n",
       "        vertical-align: middle;\n",
       "    }\n",
       "\n",
       "    .dataframe tbody tr th {\n",
       "        vertical-align: top;\n",
       "    }\n",
       "\n",
       "    .dataframe thead th {\n",
       "        text-align: right;\n",
       "    }\n",
       "</style>\n",
       "<table border=\"1\" class=\"dataframe\">\n",
       "  <thead>\n",
       "    <tr style=\"text-align: right;\">\n",
       "      <th></th>\n",
       "      <th>Fold ID</th>\n",
       "      <th># Compounds</th>\n",
       "      <th># Clusters in Fold</th>\n",
       "      <th># Fold Clusters not in other Folds</th>\n",
       "    </tr>\n",
       "  </thead>\n",
       "  <tbody>\n",
       "    <tr>\n",
       "      <th>0</th>\n",
       "      <td>0</td>\n",
       "      <td>42729</td>\n",
       "      <td>26753</td>\n",
       "      <td>3377</td>\n",
       "    </tr>\n",
       "    <tr>\n",
       "      <th>1</th>\n",
       "      <td>1</td>\n",
       "      <td>42730</td>\n",
       "      <td>26734</td>\n",
       "      <td>3392</td>\n",
       "    </tr>\n",
       "    <tr>\n",
       "      <th>2</th>\n",
       "      <td>2</td>\n",
       "      <td>42737</td>\n",
       "      <td>26696</td>\n",
       "      <td>3276</td>\n",
       "    </tr>\n",
       "    <tr>\n",
       "      <th>3</th>\n",
       "      <td>3</td>\n",
       "      <td>42734</td>\n",
       "      <td>26709</td>\n",
       "      <td>3326</td>\n",
       "    </tr>\n",
       "    <tr>\n",
       "      <th>4</th>\n",
       "      <td>4</td>\n",
       "      <td>42730</td>\n",
       "      <td>26708</td>\n",
       "      <td>3352</td>\n",
       "    </tr>\n",
       "    <tr>\n",
       "      <th>5</th>\n",
       "      <td>5</td>\n",
       "      <td>42729</td>\n",
       "      <td>26772</td>\n",
       "      <td>3342</td>\n",
       "    </tr>\n",
       "    <tr>\n",
       "      <th>6</th>\n",
       "      <td>6</td>\n",
       "      <td>42730</td>\n",
       "      <td>26746</td>\n",
       "      <td>3397</td>\n",
       "    </tr>\n",
       "    <tr>\n",
       "      <th>7</th>\n",
       "      <td>7</td>\n",
       "      <td>42727</td>\n",
       "      <td>26717</td>\n",
       "      <td>3345</td>\n",
       "    </tr>\n",
       "    <tr>\n",
       "      <th>8</th>\n",
       "      <td>8</td>\n",
       "      <td>42727</td>\n",
       "      <td>26783</td>\n",
       "      <td>3442</td>\n",
       "    </tr>\n",
       "    <tr>\n",
       "      <th>9</th>\n",
       "      <td>9</td>\n",
       "      <td>42727</td>\n",
       "      <td>26667</td>\n",
       "      <td>3386</td>\n",
       "    </tr>\n",
       "    <tr>\n",
       "      <th>10</th>\n",
       "      <td>All Folds</td>\n",
       "      <td>427300</td>\n",
       "      <td>88324</td>\n",
       "      <td>0</td>\n",
       "    </tr>\n",
       "  </tbody>\n",
       "</table>\n",
       "</div>"
      ],
      "text/plain": [
       "      Fold ID  # Compounds  # Clusters in Fold  \\\n",
       "0           0        42729               26753   \n",
       "1           1        42730               26734   \n",
       "2           2        42737               26696   \n",
       "3           3        42734               26709   \n",
       "4           4        42730               26708   \n",
       "5           5        42729               26772   \n",
       "6           6        42730               26746   \n",
       "7           7        42727               26717   \n",
       "8           8        42727               26783   \n",
       "9           9        42727               26667   \n",
       "10  All Folds       427300               88324   \n",
       "\n",
       "    # Fold Clusters not in other Folds  \n",
       "0                                 3377  \n",
       "1                                 3392  \n",
       "2                                 3276  \n",
       "3                                 3326  \n",
       "4                                 3352  \n",
       "5                                 3342  \n",
       "6                                 3397  \n",
       "7                                 3345  \n",
       "8                                 3442  \n",
       "9                                 3386  \n",
       "10                                   0  "
      ]
     },
     "execution_count": 11,
     "metadata": {},
     "output_type": "execute_result"
    }
   ],
   "source": [
    "import pandas as pd\n",
    "import numpy as np\n",
    "\n",
    "cluster_col = 'TB_0.4 ID'\n",
    "train_df = pd.read_csv('../datasets/folds/training_df_single_fold_with_clustering_v2.csv.gz')\n",
    "\n",
    "fold_info = []\n",
    "all_fold_clusters = []\n",
    "for i in range(10):\n",
    "    fold_df = train_df[train_df['Fold ID'] == i]\n",
    "    rem_df = train_df[train_df['Fold ID'] != i]\n",
    "    \n",
    "    fold_clusters = np.unique(fold_df[cluster_col].values)\n",
    "    rem_clusters = np.unique(rem_df[cluster_col].values)\n",
    "    \n",
    "    \n",
    "    n_cpd = fold_df.shape[0]\n",
    "    n_clusters = fold_clusters.shape[0]\n",
    "    n_unique = np.setdiff1d(fold_clusters, rem_clusters).shape[0]\n",
    "    \n",
    "    all_fold_clusters.append(np.setdiff1d(fold_clusters, rem_clusters))\n",
    "    \n",
    "    fold_info.append([i, n_cpd, n_clusters, n_unique])\n",
    "\n",
    "n_cpd = train_df.shape[0]\n",
    "n_clusters = train_df[cluster_col].unique().shape[0]\n",
    "\n",
    "fold_info.append(['All Folds', n_cpd, n_clusters, 0])\n",
    "fold_info = pd.DataFrame(data=fold_info,\n",
    "                        columns=['Fold ID', '# Compounds', '# Clusters in Fold', '# Fold Clusters not in other Folds'])\n",
    "fold_info"
   ]
  },
  {
   "cell_type": "code",
   "execution_count": 12,
   "metadata": {},
   "outputs": [
    {
     "name": "stdout",
     "output_type": "stream",
     "text": [
      "\\begin{tabular}{lrrr}\n",
      "\\toprule\n",
      "   Fold ID &  \\# Compounds &  \\# Clusters in Fold &  \\# Fold Clusters not in other Folds \\\\\n",
      "\\midrule\n",
      "         0 &        42729 &               26753 &                                3377 \\\\\n",
      "         1 &        42730 &               26734 &                                3392 \\\\\n",
      "         2 &        42737 &               26696 &                                3276 \\\\\n",
      "         3 &        42734 &               26709 &                                3326 \\\\\n",
      "         4 &        42730 &               26708 &                                3352 \\\\\n",
      "         5 &        42729 &               26772 &                                3342 \\\\\n",
      "         6 &        42730 &               26746 &                                3397 \\\\\n",
      "         7 &        42727 &               26717 &                                3345 \\\\\n",
      "         8 &        42727 &               26783 &                                3442 \\\\\n",
      "         9 &        42727 &               26667 &                                3386 \\\\\n",
      " All Folds &       427300 &               88324 &                                   0 \\\\\n",
      "\\bottomrule\n",
      "\\end{tabular}\n",
      "\n"
     ]
    }
   ],
   "source": [
    "print(fold_info.to_latex(index=False))"
   ]
  },
  {
   "cell_type": "code",
   "execution_count": 13,
   "metadata": {},
   "outputs": [
    {
     "data": {
      "text/plain": [
       "(33635,)"
      ]
     },
     "execution_count": 13,
     "metadata": {},
     "output_type": "execute_result"
    }
   ],
   "source": [
    "from functools import reduce\n",
    "reduce(np.union1d, all_fold_clusters).shape"
   ]
  },
  {
   "cell_type": "code",
   "execution_count": 16,
   "metadata": {},
   "outputs": [
    {
     "data": {
      "text/plain": [
       "38.08138218377791"
      ]
     },
     "execution_count": 16,
     "metadata": {},
     "output_type": "execute_result"
    }
   ],
   "source": [
    "100.0 * 33635/88324"
   ]
  },
  {
   "cell_type": "code",
   "execution_count": null,
   "metadata": {},
   "outputs": [],
   "source": []
  }
 ],
 "metadata": {
  "kernelspec": {
   "display_name": "Python 3",
   "language": "python",
   "name": "python3"
  },
  "language_info": {
   "codemirror_mode": {
    "name": "ipython",
    "version": 3
   },
   "file_extension": ".py",
   "mimetype": "text/x-python",
   "name": "python",
   "nbconvert_exporter": "python",
   "pygments_lexer": "ipython3",
   "version": "3.6.8"
  }
 },
 "nbformat": 4,
 "nbformat_minor": 2
}
