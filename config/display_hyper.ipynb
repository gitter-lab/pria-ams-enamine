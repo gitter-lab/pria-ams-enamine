{
 "cells": [
  {
   "cell_type": "code",
   "execution_count": 1,
   "metadata": {
    "collapsed": true
   },
   "outputs": [],
   "source": [
    "from sklearn.model_selection import ParameterGrid"
   ]
  },
  {
   "cell_type": "markdown",
   "metadata": {},
   "source": [
    "# STNN-C"
   ]
  },
  {
   "cell_type": "code",
   "execution_count": 2,
   "metadata": {
    "collapsed": false
   },
   "outputs": [
    {
     "name": "stdout",
     "output_type": "stream",
     "text": [
      "432\n"
     ]
    }
   ],
   "source": [
    "hyperparameter_sets = {\n",
    "    'learning rate': [0.00003, 0.0001, 0.003],\n",
    "    'weighted schema': ['no_weight', 'weighted_sample'],\n",
    "    'epoch patience': [{'epoch_size': 200, 'patience': 50},\n",
    "                       {'epoch_size': 1000, 'patience': 200}],\n",
    "    'early stopping': ['auc', 'precision'],\n",
    "    'dropout': [0.1, 0.25],\n",
    "    'layers': [\n",
    "        [{'hidden_units': 500, 'init': 'glorot_normal', 'activation': 'relu'},\n",
    "         {'hidden_units': 200, 'init': 'glorot_normal', 'activation': 'sigmoid'},\n",
    "         {'init': 'glorot_normal', 'activation': 'sigmoid'}],\n",
    "        [{'hidden_units': 1000, 'init': 'glorot_normal', 'activation': 'relu'},\n",
    "         {'hidden_units': 500, 'init': 'glorot_normal', 'activation': 'sigmoid'},\n",
    "         {'init': 'glorot_normal', 'activation': 'sigmoid'}],\n",
    "        [{'hidden_units': 2000, 'init': 'glorot_normal', 'activation': 'relu'},\n",
    "         {'hidden_units': 2000, 'init': 'glorot_normal', 'activation': 'sigmoid'},\n",
    "         {'init': 'glorot_normal', 'activation': 'sigmoid'}],\n",
    "        [{'hidden_units': 2000, 'init': 'glorot_normal', 'activation': 'relu'},\n",
    "         {'hidden_units': 2000, 'init': 'glorot_normal', 'activation': 'relu'},\n",
    "         {'init': 'glorot_normal', 'activation': 'sigmoid'}],\n",
    "        [{'hidden_units': 2000, 'init': 'glorot_normal', 'activation': 'sigmoid'},\n",
    "         {'hidden_units': 2000, 'init': 'glorot_normal', 'activation': 'sigmoid'},\n",
    "         {'init': 'glorot_normal', 'activation': 'sigmoid'}],\n",
    "        [{'hidden_units': 2000, 'init': 'glorot_normal', 'activation': 'relu'},\n",
    "         {'hidden_units': 4000, 'init': 'glorot_normal', 'activation': 'sigmoid'},\n",
    "         {'hidden_units': 2000, 'init': 'glorot_normal', 'activation': 'sigmoid'},\n",
    "         {'init': 'glorot_normal', 'activation': 'sigmoid'}],\n",
    "        [{'hidden_units': 2000, 'init': 'glorot_normal', 'activation': 'relu'},\n",
    "         {'hidden_units': 1000, 'init': 'glorot_normal', 'activation': 'sigmoid'},\n",
    "         {'init': 'glorot_normal', 'activation': 'sigmoid'}],\n",
    "        [{'hidden_units': 2000, 'init': 'glorot_normal', 'activation': 'relu'},\n",
    "         {'hidden_units': 4000, 'init': 'glorot_normal', 'activation': 'sigmoid'},\n",
    "         {'hidden_units': 1000, 'init': 'glorot_normal', 'activation': 'sigmoid'},\n",
    "         {'init': 'glorot_normal', 'activation': 'sigmoid'}],\n",
    "        [{'hidden_units': 2000, 'init': 'glorot_normal', 'activation': 'relu'},\n",
    "         {'hidden_units': 4000, 'init': 'glorot_normal', 'activation': 'sigmoid'},\n",
    "         {'hidden_units': 8000, 'init': 'glorot_normal', 'activation': 'sigmoid'},\n",
    "         {'hidden_units': 1000, 'init': 'glorot_normal', 'activation': 'sigmoid'},\n",
    "         {'init': 'glorot_normal', 'activation': 'sigmoid'}],     \n",
    "    ],\n",
    "}\n",
    "\n",
    "hyperparameters = ParameterGrid(hyperparameter_sets)\n",
    "print len(hyperparameters)"
   ]
  },
  {
   "cell_type": "markdown",
   "metadata": {},
   "source": [
    "# STNN-R"
   ]
  },
  {
   "cell_type": "code",
   "execution_count": 3,
   "metadata": {
    "collapsed": false
   },
   "outputs": [
    {
     "name": "stdout",
     "output_type": "stream",
     "text": [
      "432\n"
     ]
    }
   ],
   "source": [
    "hyperparameter_sets = {\n",
    "    'learning rate': [0.00003, 0.0001, 0.003],\n",
    "    'weighted schema': ['no_weight', 'weighted_sample'],\n",
    "    'epoch patience': [{'epoch_size': 200, 'patience': 50},\n",
    "                       {'epoch_size': 1000, 'patience': 200}],\n",
    "    'early stopping': ['auc', 'precision'],\n",
    "    'dropout': [0.1, 0.25],\n",
    "    'layers': [\n",
    "        [{'hidden_units': 500, 'init': 'glorot_normal', 'activation': 'relu'},\n",
    "         {'hidden_units': 200, 'init': 'glorot_normal', 'activation': 'sigmoid'},\n",
    "         {'init': 'glorot_normal', 'activation': 'linear'}],\n",
    "        [{'hidden_units': 1000, 'init': 'glorot_normal', 'activation': 'relu'},\n",
    "         {'hidden_units': 500, 'init': 'glorot_normal', 'activation': 'sigmoid'},\n",
    "         {'init': 'glorot_normal', 'activation': 'linear'}],\n",
    "        [{'hidden_units': 2000, 'init': 'glorot_normal', 'activation': 'relu'},\n",
    "         {'hidden_units': 2000, 'init': 'glorot_normal', 'activation': 'sigmoid'},\n",
    "         {'init': 'glorot_normal', 'activation': 'linear'}],\n",
    "        [{'hidden_units': 2000, 'init': 'glorot_normal', 'activation': 'relu'},\n",
    "         {'hidden_units': 2000, 'init': 'glorot_normal', 'activation': 'relu'},\n",
    "         {'init': 'glorot_normal', 'activation': 'linear'}],\n",
    "        [{'hidden_units': 2000, 'init': 'glorot_normal', 'activation': 'sigmoid'},\n",
    "         {'hidden_units': 2000, 'init': 'glorot_normal', 'activation': 'sigmoid'},\n",
    "         {'init': 'glorot_normal', 'activation': 'linear'}],\n",
    "        [{'hidden_units': 2000, 'init': 'glorot_normal', 'activation': 'relu'},\n",
    "         {'hidden_units': 4000, 'init': 'glorot_normal', 'activation': 'sigmoid'},\n",
    "         {'hidden_units': 2000, 'init': 'glorot_normal', 'activation': 'sigmoid'},\n",
    "         {'init': 'glorot_normal', 'activation': 'linear'}],\n",
    "        [{'hidden_units': 2000, 'init': 'glorot_normal', 'activation': 'relu'},\n",
    "         {'hidden_units': 1000, 'init': 'glorot_normal', 'activation': 'sigmoid'},\n",
    "         {'init': 'glorot_normal', 'activation': 'linear'}],\n",
    "        [{'hidden_units': 2000, 'init': 'glorot_normal', 'activation': 'relu'},\n",
    "         {'hidden_units': 4000, 'init': 'glorot_normal', 'activation': 'sigmoid'},\n",
    "         {'hidden_units': 1000, 'init': 'glorot_normal', 'activation': 'sigmoid'},\n",
    "         {'init': 'glorot_normal', 'activation': 'linear'}],\n",
    "        [{'hidden_units': 2000, 'init': 'glorot_normal', 'activation': 'relu'},\n",
    "         {'hidden_units': 4000, 'init': 'glorot_normal', 'activation': 'sigmoid'},\n",
    "         {'hidden_units': 8000, 'init': 'glorot_normal', 'activation': 'sigmoid'},\n",
    "         {'hidden_units': 1000, 'init': 'glorot_normal', 'activation': 'sigmoid'},\n",
    "         {'init': 'glorot_normal', 'activation': 'linear'}],     \n",
    "    ],\n",
    "}\n",
    "\n",
    "hyperparameters = ParameterGrid(hyperparameter_sets)\n",
    "print len(hyperparameters)"
   ]
  },
  {
   "cell_type": "markdown",
   "metadata": {},
   "source": [
    "# RF-C"
   ]
  },
  {
   "cell_type": "code",
   "execution_count": 4,
   "metadata": {
    "collapsed": false
   },
   "outputs": [
    {
     "name": "stdout",
     "output_type": "stream",
     "text": [
      "216\n"
     ]
    }
   ],
   "source": [
    "hyperparameter_sets = {\n",
    "    'n_estimators': [50, 250, 1000, 4000, 8000, 16000],\n",
    "    'max_features': [None, 'sqrt', 'log2'],\n",
    "    'min_samples_leaf': [1, 10, 100, 1000],\n",
    "    'class_weight': [None, 'balanced_subsample','balanced']\n",
    "}\n",
    "\n",
    "hyperparameters = ParameterGrid(hyperparameter_sets)\n",
    "print len(hyperparameters)"
   ]
  },
  {
   "cell_type": "markdown",
   "metadata": {},
   "source": [
    "# XGBoost-C"
   ]
  },
  {
   "cell_type": "code",
   "execution_count": 5,
   "metadata": {
    "collapsed": false
   },
   "outputs": [
    {
     "name": "stdout",
     "output_type": "stream",
     "text": [
      "1866240\n"
     ]
    }
   ],
   "source": [
    "hyperparameter_sets = {'max_depth': [5, 10, 50, 100],\n",
    "                       'learning_rate': [1, 3e-1, 1e-1, 3e-2],\n",
    "                       'n_estimators': [30, 100, 300, 1000, 3000],\n",
    "                       'subsample': [1, 0.5],\n",
    "                       'colsample_bylevel': [1, 0.5, 0.2],\n",
    "                       'colsample_bytree': [1, 0.5, 0.2],\n",
    "                       'min_child_weight': [1, 5, 20],\n",
    "                       'reg_alpha': [0, 0.3],\n",
    "                       'reg_lambda': [1, 0.7],\n",
    "                       'scale_pos_weight': [1, 0.1, 0.001],\n",
    "                       'max_delta_step': [0, 1, 3],\n",
    "                       'eval_metric': ['AUC[PR]', 'AUC[ROC]'],\n",
    "                       'eval_round': [100, 300, 1000],\n",
    "                       'booster': ['gbtree', 'gblinear'],\n",
    "                       }\n",
    "\n",
    "hyperparameters = ParameterGrid(hyperparameter_sets)\n",
    "print len(hyperparameters)"
   ]
  },
  {
   "cell_type": "markdown",
   "metadata": {},
   "source": [
    "# XGBoost-R"
   ]
  },
  {
   "cell_type": "code",
   "execution_count": 6,
   "metadata": {
    "collapsed": false
   },
   "outputs": [
    {
     "name": "stdout",
     "output_type": "stream",
     "text": [
      "829440\n"
     ]
    }
   ],
   "source": [
    "hyperparameter_sets = {'max_depth': [5, 10, 50, 100],\n",
    "                       'learning_rate': [1, 3e-1, 1e-1, 3e-2],\n",
    "                       'n_estimators': [30, 100, 300, 1000, 3000],\n",
    "                       'subsample': [1, 0.5],\n",
    "                       'colsample_bylevel': [1, 0.5, 0.2],\n",
    "                       'colsample_bytree': [1, 0.5, 0.2],\n",
    "                       'min_child_weight': [1, 5, 20],\n",
    "                       'reg_alpha': [0, 0.3],\n",
    "                       'reg_lambda': [1, 0.7],\n",
    "                       'scale_pos_weight': [1, 0.3, 0.1, 0.003],\n",
    "                       'eval_metric': ['AUC[PR]', 'AUC[ROC]'],\n",
    "                       'eval_round': [100, 300, 1000],\n",
    "                       'booster': ['gbtree', 'gblinear'],\n",
    "                       }\n",
    "\n",
    "hyperparameters = ParameterGrid(hyperparameter_sets)\n",
    "print len(hyperparameters)"
   ]
  }
 ],
 "metadata": {
  "kernelspec": {
   "display_name": "Python 2",
   "language": "python",
   "name": "python2"
  },
  "language_info": {
   "codemirror_mode": {
    "name": "ipython",
    "version": 2
   },
   "file_extension": ".py",
   "mimetype": "text/x-python",
   "name": "python",
   "nbconvert_exporter": "python",
   "pygments_lexer": "ipython2",
   "version": "2.7.15"
  }
 },
 "nbformat": 4,
 "nbformat_minor": 2
}
